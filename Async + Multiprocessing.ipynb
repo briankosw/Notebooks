{
 "cells": [
  {
   "cell_type": "code",
   "execution_count": 1,
   "metadata": {
    "ExecuteTime": {
     "end_time": "2020-06-24T04:25:26.097076Z",
     "start_time": "2020-06-24T04:25:25.650707Z"
    }
   },
   "outputs": [],
   "source": [
    "from glob import glob\n",
    "import multiprocessing as mp\n",
    "\n",
    "from PIL import Image\n",
    "import numpy as np"
   ]
  },
  {
   "cell_type": "code",
   "execution_count": 2,
   "metadata": {
    "ExecuteTime": {
     "end_time": "2020-06-24T04:25:26.987080Z",
     "start_time": "2020-06-24T04:25:26.981992Z"
    }
   },
   "outputs": [],
   "source": [
    "DATA_DIR = \"/home/briankosw/Data/global-wheat-detection/train/\""
   ]
  },
  {
   "cell_type": "code",
   "execution_count": 3,
   "metadata": {
    "ExecuteTime": {
     "end_time": "2020-06-24T04:25:27.532165Z",
     "start_time": "2020-06-24T04:25:27.493345Z"
    }
   },
   "outputs": [],
   "source": [
    "train_image_paths = glob(DATA_DIR + \"*.jpg\")"
   ]
  },
  {
   "cell_type": "code",
   "execution_count": 6,
   "metadata": {
    "ExecuteTime": {
     "end_time": "2020-06-24T04:25:34.316118Z",
     "start_time": "2020-06-24T04:25:34.149509Z"
    }
   },
   "outputs": [
    {
     "name": "stdout",
     "output_type": "stream",
     "text": [
      "160 ms ± 0 ns per loop (mean ± std. dev. of 1 run, 1 loop each)\n"
     ]
    }
   ],
   "source": [
    "%timeit -n 1 -r 1 list(map(Image.open, train_image_paths))"
   ]
  },
  {
   "cell_type": "code",
   "execution_count": 12,
   "metadata": {
    "ExecuteTime": {
     "end_time": "2020-06-24T04:19:56.434639Z",
     "start_time": "2020-06-24T04:19:56.431757Z"
    }
   },
   "outputs": [],
   "source": [
    "def open_images(images, processes=None):\n",
    "    pool = mp.Pool(processes)\n",
    "    response = pool.map(Image.open, images)\n",
    "    pool.close()\n",
    "    \n",
    "    return response"
   ]
  },
  {
   "cell_type": "code",
   "execution_count": 21,
   "metadata": {
    "ExecuteTime": {
     "end_time": "2020-06-24T04:23:34.717237Z",
     "start_time": "2020-06-24T04:22:21.169253Z"
    }
   },
   "outputs": [
    {
     "name": "stderr",
     "output_type": "stream",
     "text": [
      "Process ForkPoolWorker-571:\n",
      "Process ForkPoolWorker-583:\n",
      "Process ForkPoolWorker-585:\n",
      "Process ForkPoolWorker-565:\n",
      "Process ForkPoolWorker-584:\n",
      "Process ForkPoolWorker-564:\n",
      "Process ForkPoolWorker-582:\n",
      "Process ForkPoolWorker-567:\n",
      "Traceback (most recent call last):\n"
     ]
    }
   ],
   "source": [
    "%timeit -n 1 -r 1 open_images(train_image_paths, 8)"
   ]
  }
 ],
 "metadata": {
  "kernelspec": {
   "display_name": "Python 3",
   "language": "python",
   "name": "python3"
  },
  "language_info": {
   "codemirror_mode": {
    "name": "ipython",
    "version": 3
   },
   "file_extension": ".py",
   "mimetype": "text/x-python",
   "name": "python",
   "nbconvert_exporter": "python",
   "pygments_lexer": "ipython3",
   "version": "3.8.2"
  }
 },
 "nbformat": 4,
 "nbformat_minor": 4
}
