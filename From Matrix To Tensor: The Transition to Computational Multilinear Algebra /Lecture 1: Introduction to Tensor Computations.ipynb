{
 "cells": [
  {
   "cell_type": "markdown",
   "metadata": {},
   "source": [
    "http://www.cs.cornell.edu/cv/SummerSchool/Introduction.pdf"
   ]
  },
  {
   "cell_type": "markdown",
   "metadata": {},
   "source": [
    "An order-$d$ tensor $\\mathcal{A} \\in \\mathbb{R}^{n_1 \\times ... \\times n_d}$ is a real $d$-dimensional array $\\mathcal{A}(1:n_1,...,1:n_d)$ where the index range in the $k$-th mode is from 1 to $n_k$."
   ]
  },
  {
   "cell_type": "code",
   "execution_count": 5,
   "metadata": {},
   "outputs": [],
   "source": [
    "import numpy as np\n",
    "import numpy.linalg as la"
   ]
  },
  {
   "cell_type": "markdown",
   "metadata": {},
   "source": [
    "Generate random matrix"
   ]
  },
  {
   "cell_type": "code",
   "execution_count": 3,
   "metadata": {},
   "outputs": [],
   "source": [
    "x = np.random.rand(16).reshape(4,4)"
   ]
  },
  {
   "cell_type": "code",
   "execution_count": 4,
   "metadata": {},
   "outputs": [
    {
     "data": {
      "text/plain": [
       "array([[0.54227851, 0.66889601, 0.45727073, 0.62933098],\n",
       "       [0.47801063, 0.73891157, 0.59305438, 0.03116649],\n",
       "       [0.44853368, 0.9819833 , 0.00696085, 0.16644272],\n",
       "       [0.95718035, 0.83565228, 0.26768417, 0.35318074]])"
      ]
     },
     "execution_count": 4,
     "metadata": {},
     "output_type": "execute_result"
    }
   ],
   "source": [
    "x"
   ]
  },
  {
   "cell_type": "markdown",
   "metadata": {},
   "source": [
    "SVD Decomposition\n",
    "$$\n",
    "\\begin{bmatrix}\n",
    "a_{11} a_{12} \\\\ a_{21} a_{22}\n",
    "\\end{bmatrix}\n",
    "=\n",
    "\\begin{bmatrix}\n",
    "u_{11} u_{12} \\\\ u_{21} u_{22}\n",
    "\\end{bmatrix}\n",
    "\\begin{bmatrix}\n",
    "\\sigma_1 0 \\\\ 0 \\sigma_2\n",
    "\\end{bmatrix}\n",
    "\\begin{bmatrix}\n",
    "v_{11} v_{12} \\\\ v_{21} v_{22}\n",
    "\\end{bmatrix}^T\n",
    "$$"
   ]
  },
  {
   "cell_type": "code",
   "execution_count": 6,
   "metadata": {},
   "outputs": [],
   "source": [
    "u, s, vh = la.svd(x)"
   ]
  },
  {
   "cell_type": "code",
   "execution_count": 9,
   "metadata": {},
   "outputs": [
    {
     "name": "stdout",
     "output_type": "stream",
     "text": [
      "U: [[-0.49352684  0.62107755  0.32417229 -0.51537002]\n",
      " [-0.4438384   0.13884032 -0.88455544  0.03595165]\n",
      " [-0.4546231  -0.77077561  0.08935848 -0.43730751]\n",
      " [-0.59393314 -0.02984968  0.32324768  0.73611369]]\n",
      "\n",
      "S: [2.21956252 0.51063197 0.44009029 0.31153589]\n",
      "\n",
      "V: [[-0.56416675 -0.72123642 -0.2933221  -0.27476544]\n",
      " [ 0.05654524 -0.51662592  0.69127066  0.50204101]\n",
      " [ 0.23279629 -0.17928025 -0.6571485   0.69413279]\n",
      " [ 0.79014201 -0.42517559 -0.06529069 -0.43662163]]\n",
      "\n"
     ]
    }
   ],
   "source": [
    "print(\"U: {}\\n\".format(u))\n",
    "print(\"S: {}\\n\".format(s))\n",
    "print(\"V: {}\\n\".format(vh))"
   ]
  },
  {
   "cell_type": "markdown",
   "metadata": {},
   "source": [
    "Reconstruct original matrix using SVD components"
   ]
  },
  {
   "cell_type": "code",
   "execution_count": 17,
   "metadata": {},
   "outputs": [],
   "source": [
    "reconstructed = u.dot(np.diag(s)).dot(vh)"
   ]
  },
  {
   "cell_type": "code",
   "execution_count": 18,
   "metadata": {},
   "outputs": [
    {
     "data": {
      "text/plain": [
       "True"
      ]
     },
     "execution_count": 18,
     "metadata": {},
     "output_type": "execute_result"
    }
   ],
   "source": [
    "np.allclose(x, reconstructed)"
   ]
  },
  {
   "cell_type": "markdown",
   "metadata": {},
   "source": [
    "Reconstruct original matrix with vectors"
   ]
  },
  {
   "cell_type": "code",
   "execution_count": 13,
   "metadata": {},
   "outputs": [],
   "source": [
    "x_ = np.zeros((4,4))"
   ]
  },
  {
   "cell_type": "code",
   "execution_count": 15,
   "metadata": {},
   "outputs": [],
   "source": [
    "for i in range(4):\n",
    "    x_ += s[i] * np.outer(u[:,i], vh[i,:])"
   ]
  },
  {
   "cell_type": "code",
   "execution_count": 19,
   "metadata": {},
   "outputs": [
    {
     "data": {
      "text/plain": [
       "True"
      ]
     },
     "execution_count": 19,
     "metadata": {},
     "output_type": "execute_result"
    }
   ],
   "source": [
    "np.allclose(x, x_)"
   ]
  },
  {
   "cell_type": "markdown",
   "metadata": {},
   "source": [
    "Kronecker Product\n",
    "\n",
    "$$\n",
    "\\begin{bmatrix}\n",
    "a \\\\ b\n",
    "\\end{bmatrix}\n",
    "\\otimes\n",
    "\\begin{bmatrix}\n",
    "c \\\\ d\n",
    "\\end{bmatrix}\n",
    "=\n",
    "\\begin{bmatrix}\n",
    "ac \\\\ ad \\\\ bc \\\\ bd\n",
    "\\end{bmatrix}\n",
    "$$"
   ]
  },
  {
   "cell_type": "code",
   "execution_count": 20,
   "metadata": {},
   "outputs": [],
   "source": [
    "x_kronecker = np.zeros((16,))"
   ]
  },
  {
   "cell_type": "code",
   "execution_count": 21,
   "metadata": {},
   "outputs": [],
   "source": [
    "for i in range(4):\n",
    "    x_kronecker += s[i] * np.kron(u[:,i], vh[i,:])"
   ]
  },
  {
   "cell_type": "code",
   "execution_count": 24,
   "metadata": {},
   "outputs": [
    {
     "data": {
      "text/plain": [
       "array([0.54227851, 0.66889601, 0.45727073, 0.62933098, 0.47801063,\n",
       "       0.73891157, 0.59305438, 0.03116649, 0.44853368, 0.9819833 ,\n",
       "       0.00696085, 0.16644272, 0.95718035, 0.83565228, 0.26768417,\n",
       "       0.35318074])"
      ]
     },
     "execution_count": 24,
     "metadata": {},
     "output_type": "execute_result"
    }
   ],
   "source": [
    "x_kronecker"
   ]
  },
  {
   "cell_type": "code",
   "execution_count": 25,
   "metadata": {},
   "outputs": [
    {
     "data": {
      "text/plain": [
       "True"
      ]
     },
     "execution_count": 25,
     "metadata": {},
     "output_type": "execute_result"
    }
   ],
   "source": [
    "np.allclose(x.reshape(16,), x_kronecker)"
   ]
  },
  {
   "cell_type": "markdown",
   "metadata": {},
   "source": [
    "If $\\mathcal{R}$ has unit rank, then $\\mathcal{R} = (r_{ijk}), r_{ijk} = h_kg_jf_i$\n",
    "\n",
    "If $\\mathcal{R} \\in \\mathbb{R}^{2\\times2\\times2\\times}$ has unit rank then there exist $f,g,h \\in \\mathbb{R}^2$ such that\n",
    "\n",
    "$$\n",
    "\\begin{bmatrix}\n",
    "r_{111} \\\\ r_{211} \\\\ r_{121} \\\\ r_{221} \\\\ r_{112} \\\\ r_{212} \\\\ r_{122} \\\\ r_{222}  \n",
    "\\end{bmatrix}\n",
    "=\n",
    "\\begin{bmatrix}\n",
    "h_1 \\\\ h_2\n",
    "\\end{bmatrix}\n",
    "\\otimes\n",
    "\\begin{bmatrix}\n",
    "g_1 \\\\ g_2\n",
    "\\end{bmatrix}\n",
    "\\otimes\n",
    "\\begin{bmatrix}\n",
    "f_1 \\\\ f_2\n",
    "\\end{bmatrix}\n",
    "$$"
   ]
  }
 ],
 "metadata": {
  "kernelspec": {
   "display_name": "Python 3",
   "language": "python",
   "name": "python3"
  },
  "language_info": {
   "codemirror_mode": {
    "name": "ipython",
    "version": 3
   },
   "file_extension": ".py",
   "mimetype": "text/x-python",
   "name": "python",
   "nbconvert_exporter": "python",
   "pygments_lexer": "ipython3",
   "version": "3.8.2"
  }
 },
 "nbformat": 4,
 "nbformat_minor": 4
}
