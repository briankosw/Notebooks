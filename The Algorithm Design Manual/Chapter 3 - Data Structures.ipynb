{
 "cells": [
  {
   "cell_type": "markdown",
   "metadata": {
    "heading_collapsed": true
   },
   "source": [
    "## Linked List"
   ]
  },
  {
   "cell_type": "code",
   "execution_count": 1,
   "metadata": {
    "ExecuteTime": {
     "end_time": "2020-06-18T15:28:55.646150Z",
     "start_time": "2020-06-18T15:28:55.640104Z"
    },
    "hidden": true
   },
   "outputs": [],
   "source": [
    "class Node:\n",
    "    def __init__(self, data, prev_node=None, next_node=None):\n",
    "        self.data = data\n",
    "        self.prev_node = prev_node\n",
    "        self.next_node = next_node"
   ]
  },
  {
   "cell_type": "code",
   "execution_count": 19,
   "metadata": {
    "ExecuteTime": {
     "end_time": "2020-06-18T15:45:01.131508Z",
     "start_time": "2020-06-18T15:45:01.121682Z"
    },
    "hidden": true
   },
   "outputs": [],
   "source": [
    "class SinglyLinkedList:\n",
    "    def __init__(self, *data):\n",
    "        self.head = None\n",
    "        for d in data:\n",
    "            if self.head is None:\n",
    "                self.head = Node(d)\n",
    "            else:\n",
    "                self.head = Node(d, next_node=self.head)\n",
    "                \n",
    "    def insert(self, data):\n",
    "        self.head = Node(data, next_node=self.head)\n",
    "        \n",
    "    def delete(self, data):\n",
    "        prev, curr = None, self.head\n",
    "        while curr is not None:\n",
    "            if curr.data == data:\n",
    "                if prev is not None:\n",
    "                    prev.next_node = curr.next_node\n",
    "                else:\n",
    "                    self.head = curr.next_node\n",
    "                return\n",
    "            else:\n",
    "                prev, curr = curr, curr.next_node\n",
    "                \n",
    "    def search(self, data):\n",
    "        curr = self.head\n",
    "        while curr is not None:\n",
    "            if curr.data == data:\n",
    "                return curr\n",
    "            curr = curr.next_node\n",
    "        \n",
    "        return None\n",
    "                \n",
    "    def __str__(self):\n",
    "        head = self.head\n",
    "        ret = \"\"\n",
    "        while head is not None:\n",
    "            ret += \" \" + str(head.data)\n",
    "            head = head.next_node\n",
    "        \n",
    "        return ret"
   ]
  },
  {
   "cell_type": "code",
   "execution_count": 30,
   "metadata": {
    "ExecuteTime": {
     "end_time": "2020-06-18T15:45:25.954868Z",
     "start_time": "2020-06-18T15:45:25.948635Z"
    },
    "hidden": true
   },
   "outputs": [],
   "source": [
    "sll = SinglyLinkedList(1,2,3,4,5)"
   ]
  },
  {
   "cell_type": "code",
   "execution_count": 31,
   "metadata": {
    "ExecuteTime": {
     "end_time": "2020-06-18T15:45:26.467987Z",
     "start_time": "2020-06-18T15:45:26.460977Z"
    },
    "hidden": true
   },
   "outputs": [
    {
     "name": "stdout",
     "output_type": "stream",
     "text": [
      " 5 4 3 2 1\n"
     ]
    }
   ],
   "source": [
    "print(sll)"
   ]
  },
  {
   "cell_type": "code",
   "execution_count": 32,
   "metadata": {
    "ExecuteTime": {
     "end_time": "2020-06-18T15:45:28.410386Z",
     "start_time": "2020-06-18T15:45:28.405258Z"
    },
    "hidden": true
   },
   "outputs": [],
   "source": [
    "sll.insert(6)"
   ]
  },
  {
   "cell_type": "code",
   "execution_count": 33,
   "metadata": {
    "ExecuteTime": {
     "end_time": "2020-06-18T15:45:30.867973Z",
     "start_time": "2020-06-18T15:45:30.862077Z"
    },
    "hidden": true
   },
   "outputs": [
    {
     "name": "stdout",
     "output_type": "stream",
     "text": [
      " 6 5 4 3 2 1\n"
     ]
    }
   ],
   "source": [
    "print(sll)"
   ]
  },
  {
   "cell_type": "code",
   "execution_count": 35,
   "metadata": {
    "ExecuteTime": {
     "end_time": "2020-06-18T15:46:17.144292Z",
     "start_time": "2020-06-18T15:46:17.138466Z"
    },
    "hidden": true
   },
   "outputs": [],
   "source": [
    "sll.delete(3)"
   ]
  },
  {
   "cell_type": "code",
   "execution_count": 36,
   "metadata": {
    "ExecuteTime": {
     "end_time": "2020-06-18T15:46:19.909962Z",
     "start_time": "2020-06-18T15:46:19.903163Z"
    },
    "hidden": true
   },
   "outputs": [
    {
     "name": "stdout",
     "output_type": "stream",
     "text": [
      " 6 5 4 2 1\n"
     ]
    }
   ],
   "source": [
    "print(sll)"
   ]
  },
  {
   "cell_type": "code",
   "execution_count": 59,
   "metadata": {
    "ExecuteTime": {
     "end_time": "2020-06-18T15:49:43.902413Z",
     "start_time": "2020-06-18T15:49:43.897579Z"
    },
    "hidden": true
   },
   "outputs": [],
   "source": [
    "sll.search(3)"
   ]
  },
  {
   "cell_type": "code",
   "execution_count": 51,
   "metadata": {
    "ExecuteTime": {
     "end_time": "2020-06-18T15:49:25.474446Z",
     "start_time": "2020-06-18T15:49:25.464149Z"
    },
    "hidden": true
   },
   "outputs": [],
   "source": [
    "class DoublyLinkedList:\n",
    "    def __init__(self, *data):\n",
    "        self.head = None\n",
    "        for d in data:\n",
    "            if self.head is None:\n",
    "                self.head = Node(d)\n",
    "            else:\n",
    "                new_head = Node(d, prev_node=None, next_node=self.head)\n",
    "                self.head.prev_node = new_head\n",
    "                self.head = new_head\n",
    "        \n",
    "    def insert(self, data):\n",
    "        new_head = Node(data, next_node=self.head)\n",
    "        self.head.prev_node = new_head\n",
    "        self.head = new_head\n",
    "        \n",
    "    def delete(self, data):\n",
    "        curr = self.head\n",
    "        while curr is not None:\n",
    "            if curr.data == data:\n",
    "                if curr.prev_node is not None:\n",
    "                    curr.prev_node.next_node = curr.next_node\n",
    "                if curr.next_node is not None:\n",
    "                    curr.next_node.prev_node = curr.prev_node\n",
    "                return\n",
    "            else:\n",
    "                curr = curr.next_node\n",
    "                \n",
    "    def search(self, data):\n",
    "        curr = self.head\n",
    "        while curr is not None:\n",
    "            if curr.data == data:\n",
    "                return curr\n",
    "            curr = curr.next_node\n",
    "            \n",
    "        return None\n",
    "    \n",
    "    def __str__(self):\n",
    "        head = self.head\n",
    "        ret = \"\"\n",
    "        while head is not None:\n",
    "            ret += \" \" + str(head.data)\n",
    "            head = head.next_node\n",
    "        \n",
    "        return ret"
   ]
  },
  {
   "cell_type": "code",
   "execution_count": 52,
   "metadata": {
    "ExecuteTime": {
     "end_time": "2020-06-18T15:49:26.594651Z",
     "start_time": "2020-06-18T15:49:26.588241Z"
    },
    "hidden": true
   },
   "outputs": [],
   "source": [
    "dll = DoublyLinkedList(1,2,3,4,5)"
   ]
  },
  {
   "cell_type": "code",
   "execution_count": 53,
   "metadata": {
    "ExecuteTime": {
     "end_time": "2020-06-18T15:49:26.715699Z",
     "start_time": "2020-06-18T15:49:26.708533Z"
    },
    "hidden": true
   },
   "outputs": [
    {
     "name": "stdout",
     "output_type": "stream",
     "text": [
      " 5 4 3 2 1\n"
     ]
    }
   ],
   "source": [
    "print(dll)"
   ]
  },
  {
   "cell_type": "code",
   "execution_count": 54,
   "metadata": {
    "ExecuteTime": {
     "end_time": "2020-06-18T15:49:26.898902Z",
     "start_time": "2020-06-18T15:49:26.893478Z"
    },
    "hidden": true
   },
   "outputs": [],
   "source": [
    "dll.insert(6)"
   ]
  },
  {
   "cell_type": "code",
   "execution_count": 55,
   "metadata": {
    "ExecuteTime": {
     "end_time": "2020-06-18T15:49:27.365386Z",
     "start_time": "2020-06-18T15:49:27.360460Z"
    },
    "hidden": true
   },
   "outputs": [
    {
     "name": "stdout",
     "output_type": "stream",
     "text": [
      " 6 5 4 3 2 1\n"
     ]
    }
   ],
   "source": [
    "print(dll)"
   ]
  },
  {
   "cell_type": "code",
   "execution_count": 56,
   "metadata": {
    "ExecuteTime": {
     "end_time": "2020-06-18T15:49:27.767101Z",
     "start_time": "2020-06-18T15:49:27.761853Z"
    },
    "hidden": true
   },
   "outputs": [],
   "source": [
    "dll.delete(3)"
   ]
  },
  {
   "cell_type": "code",
   "execution_count": 57,
   "metadata": {
    "ExecuteTime": {
     "end_time": "2020-06-18T15:49:28.440726Z",
     "start_time": "2020-06-18T15:49:28.433648Z"
    },
    "hidden": true
   },
   "outputs": [
    {
     "name": "stdout",
     "output_type": "stream",
     "text": [
      " 6 5 4 2 1\n"
     ]
    }
   ],
   "source": [
    "print(dll)"
   ]
  },
  {
   "cell_type": "code",
   "execution_count": 58,
   "metadata": {
    "ExecuteTime": {
     "end_time": "2020-06-18T15:49:37.142986Z",
     "start_time": "2020-06-18T15:49:37.137648Z"
    },
    "hidden": true
   },
   "outputs": [],
   "source": [
    "dll.search(3)"
   ]
  },
  {
   "cell_type": "markdown",
   "metadata": {
    "heading_collapsed": true
   },
   "source": [
    "## Stack & Queue"
   ]
  },
  {
   "cell_type": "code",
   "execution_count": 102,
   "metadata": {
    "ExecuteTime": {
     "end_time": "2020-06-18T16:15:53.799982Z",
     "start_time": "2020-06-18T16:15:53.794083Z"
    },
    "hidden": true
   },
   "outputs": [],
   "source": [
    "class Stack:\n",
    "    def __init__(self, *data):\n",
    "        self._stack = list(data)\n",
    "        \n",
    "    def push(self, data):\n",
    "        self._stack.append(data)\n",
    "    \n",
    "    def pop(self):\n",
    "        if self._stack:\n",
    "            return self._stack.pop()\n",
    "    \n",
    "    def __str__(self):\n",
    "        return self._stack.__str__()"
   ]
  },
  {
   "cell_type": "code",
   "execution_count": 103,
   "metadata": {
    "ExecuteTime": {
     "end_time": "2020-06-18T16:15:55.072006Z",
     "start_time": "2020-06-18T16:15:55.066895Z"
    },
    "hidden": true
   },
   "outputs": [],
   "source": [
    "s = Stack()"
   ]
  },
  {
   "cell_type": "code",
   "execution_count": 104,
   "metadata": {
    "ExecuteTime": {
     "end_time": "2020-06-18T16:15:55.387325Z",
     "start_time": "2020-06-18T16:15:55.381752Z"
    },
    "hidden": true
   },
   "outputs": [],
   "source": [
    "s.push(1)"
   ]
  },
  {
   "cell_type": "code",
   "execution_count": 105,
   "metadata": {
    "ExecuteTime": {
     "end_time": "2020-06-18T16:15:56.870815Z",
     "start_time": "2020-06-18T16:15:56.864671Z"
    },
    "hidden": true
   },
   "outputs": [
    {
     "name": "stdout",
     "output_type": "stream",
     "text": [
      "[1]\n"
     ]
    }
   ],
   "source": [
    "print(s)"
   ]
  },
  {
   "cell_type": "code",
   "execution_count": 106,
   "metadata": {
    "ExecuteTime": {
     "end_time": "2020-06-18T16:15:56.926233Z",
     "start_time": "2020-06-18T16:15:56.921810Z"
    },
    "hidden": true
   },
   "outputs": [
    {
     "name": "stdout",
     "output_type": "stream",
     "text": [
      "1\n"
     ]
    }
   ],
   "source": [
    "print(s.pop())"
   ]
  },
  {
   "cell_type": "code",
   "execution_count": 107,
   "metadata": {
    "ExecuteTime": {
     "end_time": "2020-06-18T16:15:57.080591Z",
     "start_time": "2020-06-18T16:15:57.074471Z"
    },
    "hidden": true
   },
   "outputs": [
    {
     "name": "stdout",
     "output_type": "stream",
     "text": [
      "[]\n"
     ]
    }
   ],
   "source": [
    "print(s)"
   ]
  },
  {
   "cell_type": "markdown",
   "metadata": {
    "hidden": true
   },
   "source": [
    "In Python, the list data structure can natively be used as a stack with `append` serving as `push` and `pop` serving as `pop`."
   ]
  },
  {
   "cell_type": "code",
   "execution_count": 114,
   "metadata": {
    "ExecuteTime": {
     "end_time": "2020-06-18T16:16:26.160715Z",
     "start_time": "2020-06-18T16:16:26.154307Z"
    },
    "hidden": true
   },
   "outputs": [],
   "source": [
    "class Queue:\n",
    "    def __init__(self, *data):\n",
    "        self._queue = list(data)\n",
    "        \n",
    "    def enqueue(self, data):\n",
    "        self._queue.append(data)\n",
    "    \n",
    "    def dequeue(self):\n",
    "        if self._queue:\n",
    "            return self._queue.pop(0)\n",
    "        \n",
    "    def __str__(self):\n",
    "        return self._queue.__str__()"
   ]
  },
  {
   "cell_type": "code",
   "execution_count": 115,
   "metadata": {
    "ExecuteTime": {
     "end_time": "2020-06-18T16:16:26.295960Z",
     "start_time": "2020-06-18T16:16:26.291000Z"
    },
    "hidden": true
   },
   "outputs": [],
   "source": [
    "q = Queue()"
   ]
  },
  {
   "cell_type": "code",
   "execution_count": 116,
   "metadata": {
    "ExecuteTime": {
     "end_time": "2020-06-18T16:16:26.431887Z",
     "start_time": "2020-06-18T16:16:26.426477Z"
    },
    "hidden": true
   },
   "outputs": [],
   "source": [
    "q.enqueue(1)"
   ]
  },
  {
   "cell_type": "code",
   "execution_count": 117,
   "metadata": {
    "ExecuteTime": {
     "end_time": "2020-06-18T16:16:26.577659Z",
     "start_time": "2020-06-18T16:16:26.570830Z"
    },
    "hidden": true
   },
   "outputs": [
    {
     "name": "stdout",
     "output_type": "stream",
     "text": [
      "[1]\n"
     ]
    }
   ],
   "source": [
    "print(q)"
   ]
  },
  {
   "cell_type": "code",
   "execution_count": 118,
   "metadata": {
    "ExecuteTime": {
     "end_time": "2020-06-18T16:16:30.255541Z",
     "start_time": "2020-06-18T16:16:30.247813Z"
    },
    "hidden": true
   },
   "outputs": [
    {
     "data": {
      "text/plain": [
       "1"
      ]
     },
     "execution_count": 118,
     "metadata": {},
     "output_type": "execute_result"
    }
   ],
   "source": [
    "q.dequeue()"
   ]
  },
  {
   "cell_type": "code",
   "execution_count": 119,
   "metadata": {
    "ExecuteTime": {
     "end_time": "2020-06-18T16:16:33.513397Z",
     "start_time": "2020-06-18T16:16:33.507755Z"
    },
    "hidden": true
   },
   "outputs": [
    {
     "name": "stdout",
     "output_type": "stream",
     "text": [
      "[]\n"
     ]
    }
   ],
   "source": [
    "print(q)"
   ]
  },
  {
   "cell_type": "markdown",
   "metadata": {
    "hidden": true
   },
   "source": [
    "In Python, the list data structure can natively be used as a queue with `append` serving as `enqueue` and `pop(0)` serving as `dequeue`. However, using a list is really slow since calling `pop(0)` is O(n) since it needs to shift all following items.\n",
    "\n",
    "A better implemention of a queue would be using a singly or doubly linked list that tracks the pointer to the last node. Another implementation of a queue is a circular array. However, CPython uses a doubly linked list as its underlying data structure so that `enqueue` and `dequeue` are guaranteed O(1) while circular array is amortized O(1).\n",
    "\n",
    "CPython provides a deque implementation, which should be used instead of implementing something on your own. "
   ]
  },
  {
   "cell_type": "code",
   "execution_count": 122,
   "metadata": {
    "ExecuteTime": {
     "end_time": "2020-06-18T16:19:45.633064Z",
     "start_time": "2020-06-18T16:19:45.627902Z"
    },
    "hidden": true
   },
   "outputs": [],
   "source": [
    "from collections import deque"
   ]
  },
  {
   "cell_type": "code",
   "execution_count": 130,
   "metadata": {
    "ExecuteTime": {
     "end_time": "2020-06-18T16:51:54.951052Z",
     "start_time": "2020-06-18T16:51:54.945194Z"
    },
    "hidden": true
   },
   "outputs": [],
   "source": [
    "d = deque([1,2,3])"
   ]
  },
  {
   "cell_type": "code",
   "execution_count": 131,
   "metadata": {
    "ExecuteTime": {
     "end_time": "2020-06-18T16:51:58.523130Z",
     "start_time": "2020-06-18T16:51:58.517571Z"
    },
    "hidden": true
   },
   "outputs": [],
   "source": [
    "d.append(4)"
   ]
  },
  {
   "cell_type": "code",
   "execution_count": 132,
   "metadata": {
    "ExecuteTime": {
     "end_time": "2020-06-18T16:52:00.691226Z",
     "start_time": "2020-06-18T16:52:00.684993Z"
    },
    "hidden": true
   },
   "outputs": [
    {
     "name": "stdout",
     "output_type": "stream",
     "text": [
      "deque([1, 2, 3, 4])\n"
     ]
    }
   ],
   "source": [
    "print(d)"
   ]
  },
  {
   "cell_type": "code",
   "execution_count": 134,
   "metadata": {
    "ExecuteTime": {
     "end_time": "2020-06-18T16:52:20.238618Z",
     "start_time": "2020-06-18T16:52:20.230792Z"
    },
    "hidden": true
   },
   "outputs": [
    {
     "data": {
      "text/plain": [
       "1"
      ]
     },
     "execution_count": 134,
     "metadata": {},
     "output_type": "execute_result"
    }
   ],
   "source": [
    "d.popleft()"
   ]
  },
  {
   "cell_type": "code",
   "execution_count": 135,
   "metadata": {
    "ExecuteTime": {
     "end_time": "2020-06-18T16:52:22.700664Z",
     "start_time": "2020-06-18T16:52:22.693911Z"
    },
    "hidden": true
   },
   "outputs": [
    {
     "name": "stdout",
     "output_type": "stream",
     "text": [
      "deque([2, 3, 4])\n"
     ]
    }
   ],
   "source": [
    "print(d)"
   ]
  },
  {
   "cell_type": "markdown",
   "metadata": {},
   "source": [
    "## Dictionary"
   ]
  },
  {
   "cell_type": "markdown",
   "metadata": {},
   "source": [
    "Python dictionary implementation detail: https://stackoverflow.com/questions/327311/how-are-pythons-built-in-dictionaries-implemented"
   ]
  },
  {
   "cell_type": "code",
   "execution_count": null,
   "metadata": {},
   "outputs": [],
   "source": []
  },
  {
   "cell_type": "markdown",
   "metadata": {},
   "source": [
    "## Binary Search Tree"
   ]
  },
  {
   "cell_type": "markdown",
   "metadata": {
    "heading_collapsed": true
   },
   "source": [
    "### Vanilla BST"
   ]
  },
  {
   "cell_type": "code",
   "execution_count": 13,
   "metadata": {
    "ExecuteTime": {
     "end_time": "2020-06-18T23:49:28.225614Z",
     "start_time": "2020-06-18T23:49:28.206524Z"
    },
    "hidden": true
   },
   "outputs": [],
   "source": [
    "class BSTNode:\n",
    "    def __init__(self, data):\n",
    "        self.data = data\n",
    "        self.left = None\n",
    "        self.right = None\n",
    "        \n",
    "class BST:\n",
    "    def __init__(self, *data):\n",
    "        self.root = None\n",
    "        if data:\n",
    "            self.root = BSTNode(data[0])\n",
    "            self.insert(*data[1:])\n",
    "    \n",
    "    def insert(self, *data):\n",
    "        if self.root is None:\n",
    "            self.root = BSTNode(data[0])\n",
    "            for d in data[1:]:\n",
    "                self._insert(d, self.root)\n",
    "        else:\n",
    "            for d in data:\n",
    "                self._insert(d, self.root)\n",
    "                \n",
    "    def delete(self, data):\n",
    "        parent, curr = None, self.root\n",
    "        while curr is not None:\n",
    "            if data < curr.data:\n",
    "                parent, curr = curr, curr.left\n",
    "            elif data > curr.data:\n",
    "                parent, curr = curr, curr.right\n",
    "            else:\n",
    "                # curr is a leaf node\n",
    "                if curr.left is None and curr.right is None:\n",
    "                    if data < parent.data:\n",
    "                        parent.left = None\n",
    "                    else:\n",
    "                        parent.right = None\n",
    "                    return\n",
    "                # curr has only left child\n",
    "                elif curr.left is not None and curr.right is None:\n",
    "                    if data < parent.data:\n",
    "                        parent.left = curr.left\n",
    "                    else:\n",
    "                        parent.right = curr.left\n",
    "                    return\n",
    "                # curr has only right child\n",
    "                elif curr.left is None and curr.right is not None:\n",
    "                    if data < parent.data:\n",
    "                        parent.left = curr.right\n",
    "                    else:\n",
    "                        parent.right = curr.right\n",
    "                    return\n",
    "                # curr has both left and right child\n",
    "                else:\n",
    "                    runner = curr.right\n",
    "                    # get parent node of node on right subtree with the smallest value\n",
    "                    while runner.left is not None:\n",
    "                        runner = runner.left\n",
    "                    if runner is curr.right:\n",
    "                        if data < parent.data:\n",
    "                            runner.left = curr.left\n",
    "                            parent.left = runner\n",
    "                        else:\n",
    "                            runner.left = curr.left\n",
    "                            parent.right = runner\n",
    "                    else:\n",
    "                        curr.data = runner.left.data\n",
    "                        runner.left = None\n",
    "                    return\n",
    "    \n",
    "    def search(self, data):\n",
    "        curr = self.root\n",
    "        while curr is not None:\n",
    "            if data < curr.data:\n",
    "                curr = curr.left\n",
    "            elif data > curr.data:\n",
    "                curr = curr.right\n",
    "            else:\n",
    "                return curr\n",
    "        \n",
    "        return None\n",
    "    \n",
    "    def maximum(self):\n",
    "        curr = self.root\n",
    "        while curr is not None and curr.right is not None:\n",
    "            curr = curr.right\n",
    "        \n",
    "        return curr.data\n",
    "    \n",
    "    def minimum(self):\n",
    "        curr = self.root\n",
    "        while curr is not None and curr.left is not None:\n",
    "            curr = curr.left\n",
    "            \n",
    "        return curr.data\n",
    "    \n",
    "    def inorder(self, root=None):\n",
    "        if root is None:\n",
    "            root = self.root\n",
    "        \n",
    "        left, right = [], []\n",
    "        if root.left is not None:\n",
    "            left = self.inorder(root.left)\n",
    "        if root.right is not None:\n",
    "            right = self.inorder(root.right)\n",
    "            \n",
    "        return left + [root] + right\n",
    "    \n",
    "    def preorder(self, root=None):\n",
    "        if root is None:\n",
    "            root = self.root\n",
    "        \n",
    "        left, right = [], []\n",
    "        if root.left is not None:\n",
    "            left = self.preorder(root.left)\n",
    "        if root.right is not None:\n",
    "            right = self.preorder(root.right)\n",
    "            \n",
    "        return [root] + left + right\n",
    "    \n",
    "    def postorder(self, root=None):\n",
    "        if root is None:\n",
    "            root = self.root\n",
    "        \n",
    "        left, right = [], []\n",
    "        if root.left is not None:\n",
    "            left = self.postorder(root.left)\n",
    "        if root.right is not None:\n",
    "            right = self.postorder(root.right)\n",
    "            \n",
    "        return left + right + [root]\n",
    "                \n",
    "    def _insert(self, data, parent):\n",
    "        if data < parent.data:\n",
    "            if parent.left is None:\n",
    "                parent.left = BSTNode(data)\n",
    "            else:\n",
    "                self._insert(data, parent.left)\n",
    "        elif data > parent.data:\n",
    "            if parent.right is None:\n",
    "                parent.right = BSTNode(data)\n",
    "            else:\n",
    "                self._insert(data, parent.right)"
   ]
  },
  {
   "cell_type": "code",
   "execution_count": 14,
   "metadata": {
    "ExecuteTime": {
     "end_time": "2020-06-18T23:49:28.895317Z",
     "start_time": "2020-06-18T23:49:28.889176Z"
    },
    "hidden": true
   },
   "outputs": [],
   "source": [
    "bst = BST(6, 1, 3, 5, 4, 10, 9, 0)"
   ]
  },
  {
   "cell_type": "code",
   "execution_count": 8,
   "metadata": {
    "ExecuteTime": {
     "end_time": "2020-06-18T22:56:32.782319Z",
     "start_time": "2020-06-18T22:56:32.774975Z"
    },
    "hidden": true
   },
   "outputs": [
    {
     "name": "stdout",
     "output_type": "stream",
     "text": [
      "inorder: [0, 1, 3, 4, 5, 6, 9, 10]\n",
      "preorder: [6, 1, 0, 3, 5, 4, 10, 9]\n",
      "postorder: [0, 4, 5, 3, 1, 9, 10, 6]\n"
     ]
    }
   ],
   "source": [
    "inorder = bst.inorder()\n",
    "preorder = bst.preorder()\n",
    "postorder = bst.postorder()\n",
    "\n",
    "print(\"inorder: {}\".format(list(map(lambda x:x.data, inorder))))\n",
    "print(\"preorder: {}\".format(list(map(lambda x:x.data, preorder))))\n",
    "print(\"postorder: {}\".format(list(map(lambda x:x.data, postorder))))"
   ]
  },
  {
   "cell_type": "code",
   "execution_count": 247,
   "metadata": {
    "ExecuteTime": {
     "end_time": "2020-06-18T22:55:24.272684Z",
     "start_time": "2020-06-18T22:55:24.266983Z"
    },
    "hidden": true
   },
   "outputs": [],
   "source": [
    "bst.delete(1)"
   ]
  },
  {
   "cell_type": "code",
   "execution_count": 248,
   "metadata": {
    "ExecuteTime": {
     "end_time": "2020-06-18T22:55:24.787638Z",
     "start_time": "2020-06-18T22:55:24.779943Z"
    },
    "hidden": true
   },
   "outputs": [
    {
     "name": "stdout",
     "output_type": "stream",
     "text": [
      "inorder: [0, 3, 4, 5, 6, 9, 10]\n",
      "preorder: [6, 3, 0, 5, 4, 10, 9]\n",
      "postorder: [0, 4, 5, 3, 9, 10, 6]\n"
     ]
    }
   ],
   "source": [
    "inorder = bst.inorder()\n",
    "preorder = bst.preorder()\n",
    "postorder = bst.postorder()\n",
    "\n",
    "print(\"inorder: {}\".format(list(map(lambda x:x.data, inorder))))\n",
    "print(\"preorder: {}\".format(list(map(lambda x:x.data, preorder))))\n",
    "print(\"postorder: {}\".format(list(map(lambda x:x.data, postorder))))"
   ]
  },
  {
   "cell_type": "markdown",
   "metadata": {},
   "source": [
    "### AVL Tree"
   ]
  },
  {
   "cell_type": "code",
   "execution_count": 1,
   "metadata": {
    "ExecuteTime": {
     "end_time": "2020-07-21T11:19:49.832079Z",
     "start_time": "2020-07-21T11:19:49.817130Z"
    }
   },
   "outputs": [],
   "source": [
    "class AVLNode:\n",
    "    def __init__(self, data, balance_factor=0):\n",
    "        self.data = data\n",
    "        self.parent = parent\n",
    "        self.left = left\n",
    "        self.right = right\n",
    "        self.balance_factor = balance_factor\n",
    "        self.height = 1"
   ]
  },
  {
   "cell_type": "code",
   "execution_count": null,
   "metadata": {},
   "outputs": [],
   "source": [
    "class AVL:\n",
    "    def __init__(self, *data):\n",
    "        self.root = None\n",
    "        if data:\n",
    "            self.root = AVLNode(data[0])\n",
    "            self.insert(data[1:])\n",
    "    \n",
    "    def insert(self, *data):\n",
    "        "
   ]
  },
  {
   "cell_type": "markdown",
   "metadata": {
    "heading_collapsed": true
   },
   "source": [
    "## Priority Queue"
   ]
  },
  {
   "cell_type": "markdown",
   "metadata": {
    "hidden": true
   },
   "source": [
    "Priority queue can be implemented by a sorted array, binary search tree, or a heap. CPython uses heap and provides `heapq` as an implementation of priority queue."
   ]
  },
  {
   "cell_type": "code",
   "execution_count": 34,
   "metadata": {
    "ExecuteTime": {
     "end_time": "2020-06-18T23:57:32.565863Z",
     "start_time": "2020-06-18T23:57:32.559063Z"
    },
    "hidden": true
   },
   "outputs": [],
   "source": [
    "import math\n",
    "\n",
    "class PriorityQueue:\n",
    "    def __init__(self, *data):\n",
    "        self.pqueue = BST(*data)\n",
    "        if data:\n",
    "            self.min_val = self.pqueue.minimum()\n",
    "        else:\n",
    "            self.min_val = math.inf\n",
    "        \n",
    "    def insert(self, data):\n",
    "        self.pqueue.insert(data)\n",
    "        if data < self.min_val:\n",
    "            self.min_val = data\n",
    "            \n",
    "    def find_minimum(self):\n",
    "        return self.min_val\n",
    "    \n",
    "    def delete_minimum(self):\n",
    "        ret = self.min_val\n",
    "        self.pqueue.delete(self.min_val)\n",
    "        self.min_val = self.pqueue.minimum()\n",
    "        \n",
    "        return ret"
   ]
  },
  {
   "cell_type": "code",
   "execution_count": 18,
   "metadata": {
    "ExecuteTime": {
     "end_time": "2020-06-18T23:51:10.201950Z",
     "start_time": "2020-06-18T23:51:10.196726Z"
    },
    "hidden": true
   },
   "outputs": [],
   "source": [
    "import heapq"
   ]
  },
  {
   "cell_type": "code",
   "execution_count": 24,
   "metadata": {
    "ExecuteTime": {
     "end_time": "2020-06-18T23:54:26.403195Z",
     "start_time": "2020-06-18T23:54:26.396224Z"
    },
    "hidden": true
   },
   "outputs": [
    {
     "name": "stdout",
     "output_type": "stream",
     "text": [
      "0\n",
      "1\n",
      "3\n",
      "2\n"
     ]
    }
   ],
   "source": [
    "pq = []\n",
    "heapq.heappush(pq, 10)\n",
    "heapq.heappush(pq, 3)\n",
    "heapq.heappush(pq, 5)\n",
    "heapq.heappush(pq, 1)\n",
    "heapq.heappush(pq, 9)\n",
    "heapq.heappush(pq, 0)\n",
    "print(heapq.heappop(pq))\n",
    "print(heapq.heappop(pq))\n",
    "print(heapq.heappop(pq))\n",
    "heapq.heappush(pq, 2)\n",
    "print(heapq.heappop(pq))"
   ]
  },
  {
   "cell_type": "code",
   "execution_count": 35,
   "metadata": {
    "ExecuteTime": {
     "end_time": "2020-06-18T23:57:37.379149Z",
     "start_time": "2020-06-18T23:57:37.372843Z"
    },
    "hidden": true
   },
   "outputs": [],
   "source": [
    "pqueue = PriorityQueue(10, 3, 5, 1, 9, 0)\n",
    "print(pqueue.delete_minimum())\n",
    "print(pqueue.delete_minimum())\n",
    "print(pqueue.delete_minimum())\n",
    "pqueue.insert(2)\n",
    "print(pqueue.delete_minimum())"
   ]
  },
  {
   "cell_type": "markdown",
   "metadata": {
    "heading_collapsed": true
   },
   "source": [
    "## Heap"
   ]
  },
  {
   "cell_type": "code",
   "execution_count": 144,
   "metadata": {
    "ExecuteTime": {
     "end_time": "2020-06-20T19:38:40.570305Z",
     "start_time": "2020-06-20T19:38:40.554866Z"
    },
    "hidden": true
   },
   "outputs": [],
   "source": [
    "import math\n",
    "\n",
    "class Heap:\n",
    "    def __init__(self, *data):\n",
    "        self.heap = list(data)\n",
    "        self.curr_index = len(data)\n",
    "        for i in range(math.floor(len(data) / 2), -1, -1):\n",
    "            self.heapify_down(i)\n",
    "            \n",
    "    def heapify_up(self, index):\n",
    "        p_index = Heap.parent(index)\n",
    "        if p_index >= 0 and self.heap[p_index] > self.heap[index]:\n",
    "            self.heap[p_index], self.heap[index] = self.heap[index], self.heap[p_index]\n",
    "            self.heapify_up(p_index)\n",
    "    \n",
    "    def heapify_down(self, index):\n",
    "        l_index, r_index = Heap.left_child(index), Heap.right_child(index)\n",
    "        if l_index < self.curr_index and r_index < self.curr_index:\n",
    "            if self.heap[l_index] < self.heap[r_index] and self.heap[l_index] < self.heap[index]:\n",
    "                self.heap[l_index], self.heap[index] = self.heap[index], self.heap[l_index]\n",
    "                self.heapify_down(l_index)\n",
    "            elif self.heap[r_index] < self.heap[l_index] and self.heap[r_index] < self.heap[index]:\n",
    "                self.heap[r_index], self.heap[index] = self.heap[index], self.heap[r_index]\n",
    "                self.heapify_down(r_index)\n",
    "        elif l_index < self.curr_index and r_index >= self.curr_index:\n",
    "            if self.heap[l_index] < self.heap[index]:\n",
    "                self.heap[l_index], self.heap[index] = self.heap[index], self.heap[l_index]\n",
    "                self.heapify_down(l_index)\n",
    "        elif r_index < self.curr_index and l_index >= self.curr_index:\n",
    "            if self.heap[r_index] < self.heap[index]:\n",
    "                self.heap[r_index], self.heap[index] = self.heap[index], self.heap[r_index]\n",
    "                self.heapify_down(r_index)\n",
    "    \n",
    "    def extract_min(self):\n",
    "        if self.curr_index > 1:\n",
    "            ret = self.heap[0]\n",
    "            end = self.heap.pop()\n",
    "            self.heap[0] = end\n",
    "            self.curr_index -= 1\n",
    "            self.heapify_down(0)\n",
    "        else:\n",
    "            ret = self.heap.pop()\n",
    "        \n",
    "        return ret\n",
    "    \n",
    "    @staticmethod\n",
    "    def parent(index):\n",
    "        return math.floor((index - 1) / 2)\n",
    "    \n",
    "    @staticmethod\n",
    "    def left_child(index):\n",
    "        return index * 2 + 1\n",
    "    \n",
    "    @staticmethod\n",
    "    def right_child(index):\n",
    "        return index * 2 + 2"
   ]
  },
  {
   "cell_type": "code",
   "execution_count": 134,
   "metadata": {
    "ExecuteTime": {
     "end_time": "2020-06-20T19:01:26.424036Z",
     "start_time": "2020-06-20T19:01:26.417361Z"
    },
    "hidden": true
   },
   "outputs": [],
   "source": [
    "def heapsort(data):\n",
    "    heap = Heap(*data)\n",
    "    for i in range(len(data) - 1, 0, -1):\n",
    "        heap.heap[0], heap.heap[i] = heap.heap[i], heap.heap[0]\n",
    "        heap.curr_index -= 1\n",
    "        heap.heapify_down(0)\n",
    "        \n",
    "    return list(reversed(heap.heap))"
   ]
  },
  {
   "cell_type": "code",
   "execution_count": 145,
   "metadata": {
    "ExecuteTime": {
     "end_time": "2020-06-20T19:38:43.733572Z",
     "start_time": "2020-06-20T19:38:43.728637Z"
    },
    "hidden": true
   },
   "outputs": [],
   "source": [
    "data = [1918, 2001, 1941, 1945, 1963, 1804, 1865, 1783, 1776, 1492]"
   ]
  },
  {
   "cell_type": "code",
   "execution_count": 146,
   "metadata": {
    "ExecuteTime": {
     "end_time": "2020-06-20T19:38:44.247612Z",
     "start_time": "2020-06-20T19:38:44.241826Z"
    },
    "hidden": true
   },
   "outputs": [],
   "source": [
    "heap = Heap(*data)"
   ]
  },
  {
   "cell_type": "code",
   "execution_count": 147,
   "metadata": {
    "ExecuteTime": {
     "end_time": "2020-06-20T19:38:45.471260Z",
     "start_time": "2020-06-20T19:38:45.465429Z"
    },
    "hidden": true
   },
   "outputs": [
    {
     "data": {
      "text/plain": [
       "[1492, 1776, 1804, 1783, 1963, 1941, 1865, 1918, 1945, 2001]"
      ]
     },
     "execution_count": 147,
     "metadata": {},
     "output_type": "execute_result"
    }
   ],
   "source": [
    "heap.heap"
   ]
  },
  {
   "cell_type": "code",
   "execution_count": 148,
   "metadata": {
    "ExecuteTime": {
     "end_time": "2020-06-20T19:39:05.983601Z",
     "start_time": "2020-06-20T19:39:05.977449Z"
    },
    "hidden": true
   },
   "outputs": [
    {
     "data": {
      "text/plain": [
       "[1492, 1776, 1783, 1804, 1865, 1918, 1941, 1945, 1963, 2001]"
      ]
     },
     "execution_count": 148,
     "metadata": {},
     "output_type": "execute_result"
    }
   ],
   "source": [
    "heapsort(data)"
   ]
  },
  {
   "cell_type": "code",
   "execution_count": null,
   "metadata": {
    "hidden": true
   },
   "outputs": [],
   "source": [
    "sorted_data = [heap.extract_min() for _ in data]"
   ]
  },
  {
   "cell_type": "code",
   "execution_count": 99,
   "metadata": {
    "ExecuteTime": {
     "end_time": "2020-06-19T20:29:42.804804Z",
     "start_time": "2020-06-19T20:29:42.799331Z"
    },
    "hidden": true
   },
   "outputs": [
    {
     "data": {
      "text/plain": [
       "[1492, 1776, 1783, 1804, 1865, 1918, 1941, 1945, 1963, 2001]"
      ]
     },
     "execution_count": 99,
     "metadata": {},
     "output_type": "execute_result"
    }
   ],
   "source": [
    "sorted_data"
   ]
  }
 ],
 "metadata": {
  "kernelspec": {
   "display_name": "Python 3",
   "language": "python",
   "name": "python3"
  },
  "language_info": {
   "codemirror_mode": {
    "name": "ipython",
    "version": 3
   },
   "file_extension": ".py",
   "mimetype": "text/x-python",
   "name": "python",
   "nbconvert_exporter": "python",
   "pygments_lexer": "ipython3",
   "version": "3.7.6"
  }
 },
 "nbformat": 4,
 "nbformat_minor": 4
}
