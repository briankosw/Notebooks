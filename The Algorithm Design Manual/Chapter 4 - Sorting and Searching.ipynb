{
 "cells": [
  {
   "cell_type": "markdown",
   "metadata": {
    "heading_collapsed": true
   },
   "source": [
    "## Selection Sort"
   ]
  },
  {
   "cell_type": "code",
   "execution_count": 17,
   "metadata": {
    "ExecuteTime": {
     "end_time": "2020-06-20T17:55:17.698073Z",
     "start_time": "2020-06-20T17:55:17.691983Z"
    },
    "hidden": true
   },
   "outputs": [],
   "source": [
    "def selection_sort(data):\n",
    "    for i in range(len(data) - 1):\n",
    "        min_idx = i\n",
    "        j = i + 1\n",
    "        for j in range(i + 1, len(data)):\n",
    "            if data[j] < data[min_idx]:\n",
    "                min_idx = j\n",
    "        data[i], data[min_idx] = data[min_idx], data[i]\n",
    "    \n",
    "    return data"
   ]
  },
  {
   "cell_type": "code",
   "execution_count": 18,
   "metadata": {
    "ExecuteTime": {
     "end_time": "2020-06-20T17:55:17.826616Z",
     "start_time": "2020-06-20T17:55:17.820693Z"
    },
    "hidden": true
   },
   "outputs": [],
   "source": [
    "data = [10, 0, 3, 9, 15, 2, 5, 1]"
   ]
  },
  {
   "cell_type": "code",
   "execution_count": 19,
   "metadata": {
    "ExecuteTime": {
     "end_time": "2020-06-20T17:55:17.950388Z",
     "start_time": "2020-06-20T17:55:17.942011Z"
    },
    "hidden": true
   },
   "outputs": [
    {
     "data": {
      "text/plain": [
       "[0, 1, 2, 3, 5, 9, 10, 15]"
      ]
     },
     "execution_count": 19,
     "metadata": {},
     "output_type": "execute_result"
    }
   ],
   "source": [
    "selection_sort(data)"
   ]
  },
  {
   "cell_type": "markdown",
   "metadata": {
    "heading_collapsed": true
   },
   "source": [
    "## Insertion Sort"
   ]
  },
  {
   "cell_type": "code",
   "execution_count": 25,
   "metadata": {
    "ExecuteTime": {
     "end_time": "2020-06-20T18:26:29.373272Z",
     "start_time": "2020-06-20T18:26:29.367170Z"
    },
    "hidden": true
   },
   "outputs": [],
   "source": [
    "def insertion_sort(data):\n",
    "    for i in range(1, len(data)):\n",
    "        j = i\n",
    "        while j > 0 and data[j] < data[j - 1]:\n",
    "            data[j], data[j - 1] = data[j - 1], data[j]\n",
    "            j -= 1\n",
    "            # print(data)\n",
    "    \n",
    "    return data"
   ]
  },
  {
   "cell_type": "code",
   "execution_count": 26,
   "metadata": {
    "ExecuteTime": {
     "end_time": "2020-06-20T18:26:29.493803Z",
     "start_time": "2020-06-20T18:26:29.487138Z"
    },
    "hidden": true
   },
   "outputs": [],
   "source": [
    "data = [10, 0, 3, 9, 15, 2, 5, 1]"
   ]
  },
  {
   "cell_type": "code",
   "execution_count": 27,
   "metadata": {
    "ExecuteTime": {
     "end_time": "2020-06-20T18:26:29.620493Z",
     "start_time": "2020-06-20T18:26:29.612225Z"
    },
    "hidden": true
   },
   "outputs": [
    {
     "data": {
      "text/plain": [
       "[0, 1, 2, 3, 5, 9, 10, 15]"
      ]
     },
     "execution_count": 27,
     "metadata": {},
     "output_type": "execute_result"
    }
   ],
   "source": [
    "insertion_sort(data)"
   ]
  },
  {
   "cell_type": "markdown",
   "metadata": {
    "heading_collapsed": true
   },
   "source": [
    "## Shellsort"
   ]
  },
  {
   "cell_type": "code",
   "execution_count": 118,
   "metadata": {
    "ExecuteTime": {
     "end_time": "2020-06-20T22:59:35.735541Z",
     "start_time": "2020-06-20T22:59:35.729935Z"
    },
    "hidden": true
   },
   "outputs": [],
   "source": [
    "def shell_sort(data):\n",
    "    gap = len(data) // 2\n",
    "    while gap > 0:\n",
    "        for i in range(gap, len(data)):\n",
    "            val = data[i]\n",
    "            j = i\n",
    "            while j >= gap and data[j - gap] > val:\n",
    "                data[j] = data[j - gap]\n",
    "                j -= gap\n",
    "            data[j] = val\n",
    "        gap //= 2\n",
    "        \n",
    "    return data"
   ]
  },
  {
   "cell_type": "code",
   "execution_count": 119,
   "metadata": {
    "ExecuteTime": {
     "end_time": "2020-06-20T22:59:35.901877Z",
     "start_time": "2020-06-20T22:59:35.895904Z"
    },
    "hidden": true
   },
   "outputs": [],
   "source": [
    "data = [10, 0, 3, 9, 15, 2, 5, 1]"
   ]
  },
  {
   "cell_type": "code",
   "execution_count": 120,
   "metadata": {
    "ExecuteTime": {
     "end_time": "2020-06-20T22:59:36.245502Z",
     "start_time": "2020-06-20T22:59:36.239984Z"
    },
    "hidden": true
   },
   "outputs": [
    {
     "data": {
      "text/plain": [
       "[0, 1, 2, 3, 5, 9, 10, 15]"
      ]
     },
     "execution_count": 120,
     "metadata": {},
     "output_type": "execute_result"
    }
   ],
   "source": [
    "shell_sort(data)"
   ]
  },
  {
   "cell_type": "markdown",
   "metadata": {
    "heading_collapsed": true
   },
   "source": [
    "## Bubble Sort"
   ]
  },
  {
   "cell_type": "code",
   "execution_count": 31,
   "metadata": {
    "ExecuteTime": {
     "end_time": "2020-06-20T18:31:31.832816Z",
     "start_time": "2020-06-20T18:31:31.829035Z"
    },
    "hidden": true
   },
   "outputs": [],
   "source": [
    "def bubble_sort(data):\n",
    "    for i in range(len(data) - 1):\n",
    "        for j in range(len(data) - i - 1):\n",
    "            if data[j] > data[j + 1]:\n",
    "                data[j], data[j + 1] = data[j + 1], data[j]\n",
    "                \n",
    "    return data"
   ]
  },
  {
   "cell_type": "code",
   "execution_count": 32,
   "metadata": {
    "ExecuteTime": {
     "end_time": "2020-06-20T18:31:32.750247Z",
     "start_time": "2020-06-20T18:31:32.744718Z"
    },
    "hidden": true
   },
   "outputs": [],
   "source": [
    "data = [10, 0, 3, 9, 15, 2, 5, 1]"
   ]
  },
  {
   "cell_type": "code",
   "execution_count": 33,
   "metadata": {
    "ExecuteTime": {
     "end_time": "2020-06-20T18:31:32.916817Z",
     "start_time": "2020-06-20T18:31:32.911028Z"
    },
    "hidden": true
   },
   "outputs": [
    {
     "data": {
      "text/plain": [
       "[0, 1, 2, 3, 5, 9, 10, 15]"
      ]
     },
     "execution_count": 33,
     "metadata": {},
     "output_type": "execute_result"
    }
   ],
   "source": [
    "bubble_sort(data)"
   ]
  },
  {
   "cell_type": "markdown",
   "metadata": {
    "heading_collapsed": true
   },
   "source": [
    "## Heapsort"
   ]
  },
  {
   "cell_type": "code",
   "execution_count": 56,
   "metadata": {
    "ExecuteTime": {
     "end_time": "2020-06-20T19:39:57.473001Z",
     "start_time": "2020-06-20T19:39:57.458617Z"
    },
    "hidden": true
   },
   "outputs": [],
   "source": [
    "import math\n",
    "\n",
    "class Heap:\n",
    "    def __init__(self, *data):\n",
    "        self.heap = list(data)\n",
    "        self.curr_index = len(data)\n",
    "        for i in range(math.floor(len(data) / 2), -1, -1):\n",
    "            self.heapify_down(i)\n",
    "            \n",
    "    def heapify_up(self, index):\n",
    "        p_index = Heap.parent(index)\n",
    "        if p_index >= 0 and self.heap[p_index] > self.heap[index]:\n",
    "            self.heap[p_index], self.heap[index] = self.heap[index], self.heap[p_index]\n",
    "            self.heapify_up(p_index)\n",
    "    \n",
    "    def heapify_down(self, index):\n",
    "        l_index, r_index = Heap.left_child(index), Heap.right_child(index)\n",
    "        if l_index < self.curr_index and r_index < self.curr_index:\n",
    "            if self.heap[l_index] < self.heap[r_index] and self.heap[l_index] < self.heap[index]:\n",
    "                self.heap[l_index], self.heap[index] = self.heap[index], self.heap[l_index]\n",
    "                self.heapify_down(l_index)\n",
    "            elif self.heap[r_index] < self.heap[l_index] and self.heap[r_index] < self.heap[index]:\n",
    "                self.heap[r_index], self.heap[index] = self.heap[index], self.heap[r_index]\n",
    "                self.heapify_down(r_index)\n",
    "        elif l_index < self.curr_index and r_index >= self.curr_index:\n",
    "            if self.heap[l_index] < self.heap[index]:\n",
    "                self.heap[l_index], self.heap[index] = self.heap[index], self.heap[l_index]\n",
    "                self.heapify_down(l_index)\n",
    "        elif r_index < self.curr_index and l_index >= self.curr_index:\n",
    "            if self.heap[r_index] < self.heap[index]:\n",
    "                self.heap[r_index], self.heap[index] = self.heap[index], self.heap[r_index]\n",
    "                self.heapify_down(r_index)\n",
    "    \n",
    "    def extract_min(self):\n",
    "        if self.curr_index > 1:\n",
    "            ret = self.heap[0]\n",
    "            end = self.heap.pop()\n",
    "            self.heap[0] = end\n",
    "            self.curr_index -= 1\n",
    "            self.heapify_down(0)\n",
    "        else:\n",
    "            ret = self.heap.pop()\n",
    "        \n",
    "        return ret\n",
    "    \n",
    "    @staticmethod\n",
    "    def parent(index):\n",
    "        return math.floor((index - 1) / 2)\n",
    "    \n",
    "    @staticmethod\n",
    "    def left_child(index):\n",
    "        return index * 2 + 1\n",
    "    \n",
    "    @staticmethod\n",
    "    def right_child(index):\n",
    "        return index * 2 + 2"
   ]
  },
  {
   "cell_type": "code",
   "execution_count": 57,
   "metadata": {
    "ExecuteTime": {
     "end_time": "2020-06-20T19:39:59.352105Z",
     "start_time": "2020-06-20T19:39:59.346410Z"
    },
    "hidden": true
   },
   "outputs": [],
   "source": [
    "data = [10, 0, 3, 9, 15, 2, 5, 1]"
   ]
  },
  {
   "cell_type": "code",
   "execution_count": 58,
   "metadata": {
    "ExecuteTime": {
     "end_time": "2020-06-20T19:39:59.550697Z",
     "start_time": "2020-06-20T19:39:59.544771Z"
    },
    "hidden": true
   },
   "outputs": [],
   "source": [
    "heap = Heap(*data)"
   ]
  },
  {
   "cell_type": "code",
   "execution_count": 59,
   "metadata": {
    "ExecuteTime": {
     "end_time": "2020-06-20T19:39:59.972856Z",
     "start_time": "2020-06-20T19:39:59.963904Z"
    },
    "hidden": true
   },
   "outputs": [
    {
     "data": {
      "text/plain": [
       "[0, 1, 2, 9, 15, 3, 5, 10]"
      ]
     },
     "execution_count": 59,
     "metadata": {},
     "output_type": "execute_result"
    }
   ],
   "source": [
    "heap.heap"
   ]
  },
  {
   "cell_type": "code",
   "execution_count": 52,
   "metadata": {
    "ExecuteTime": {
     "end_time": "2020-06-20T19:02:30.959872Z",
     "start_time": "2020-06-20T19:02:30.954006Z"
    },
    "hidden": true
   },
   "outputs": [],
   "source": [
    "def heapsort(data):\n",
    "    heap = Heap(*data)\n",
    "    for i in range(len(data) - 1, 0, -1):\n",
    "        heap.heap[0], heap.heap[i] = heap.heap[i], heap.heap[0]\n",
    "        heap.curr_index -= 1\n",
    "        heap.heapify_down(0)\n",
    "    heap.heap.reverse()\n",
    "        \n",
    "    return heap.heap"
   ]
  },
  {
   "cell_type": "code",
   "execution_count": 60,
   "metadata": {
    "ExecuteTime": {
     "end_time": "2020-06-20T19:40:04.632057Z",
     "start_time": "2020-06-20T19:40:04.626323Z"
    },
    "hidden": true
   },
   "outputs": [
    {
     "data": {
      "text/plain": [
       "[0, 1, 2, 3, 5, 9, 10, 15]"
      ]
     },
     "execution_count": 60,
     "metadata": {},
     "output_type": "execute_result"
    }
   ],
   "source": [
    "heapsort(data)"
   ]
  },
  {
   "cell_type": "markdown",
   "metadata": {
    "heading_collapsed": true
   },
   "source": [
    "## Mergesort"
   ]
  },
  {
   "cell_type": "code",
   "execution_count": 73,
   "metadata": {
    "ExecuteTime": {
     "end_time": "2020-06-20T22:24:12.244581Z",
     "start_time": "2020-06-20T22:24:12.227554Z"
    },
    "hidden": true
   },
   "outputs": [],
   "source": [
    "import math\n",
    "\n",
    "def merge(left, right):\n",
    "    l = []\n",
    "    i, j = 0, 0\n",
    "    while i < len(left) and j < len(right):\n",
    "        if left[i] < right[j]:\n",
    "            l.append(left[i])\n",
    "            i += 1\n",
    "        else:\n",
    "            l.append(right[j])\n",
    "            j += 1\n",
    "    if i < len(left):\n",
    "        l.extend(left[i:])\n",
    "    elif j < len(right):\n",
    "        l.extend(right[j:])\n",
    "        \n",
    "    return l\n",
    "            \n",
    "\n",
    "def mergesort(data):\n",
    "    if len(data) > 1:\n",
    "        mid = math.floor(len(data) / 2)\n",
    "        left, right = mergesort(data[:mid]), mergesort(data[mid:])\n",
    "        return merge(left, right)\n",
    "    else:\n",
    "        return data"
   ]
  },
  {
   "cell_type": "code",
   "execution_count": 74,
   "metadata": {
    "ExecuteTime": {
     "end_time": "2020-06-20T22:24:13.487336Z",
     "start_time": "2020-06-20T22:24:13.482428Z"
    },
    "hidden": true
   },
   "outputs": [],
   "source": [
    "data = [10, 0, 3, 9, 15, 2, 5, 1]"
   ]
  },
  {
   "cell_type": "code",
   "execution_count": 75,
   "metadata": {
    "ExecuteTime": {
     "end_time": "2020-06-20T22:24:14.178568Z",
     "start_time": "2020-06-20T22:24:14.170010Z"
    },
    "hidden": true
   },
   "outputs": [
    {
     "data": {
      "text/plain": [
       "[0, 1, 2, 3, 5, 9, 10, 15]"
      ]
     },
     "execution_count": 75,
     "metadata": {},
     "output_type": "execute_result"
    }
   ],
   "source": [
    "mergesort(data)"
   ]
  },
  {
   "cell_type": "markdown",
   "metadata": {},
   "source": [
    "## Quicksort"
   ]
  },
  {
   "cell_type": "code",
   "execution_count": 54,
   "metadata": {
    "ExecuteTime": {
     "end_time": "2020-06-20T19:03:03.771473Z",
     "start_time": "2020-06-20T19:03:03.766369Z"
    }
   },
   "outputs": [],
   "source": [
    "def quicksort(data):\n",
    "    "
   ]
  },
  {
   "cell_type": "markdown",
   "metadata": {},
   "source": [
    "## Bucket sort"
   ]
  },
  {
   "cell_type": "code",
   "execution_count": null,
   "metadata": {},
   "outputs": [],
   "source": []
  },
  {
   "cell_type": "markdown",
   "metadata": {},
   "source": [
    "## Radix sort"
   ]
  },
  {
   "cell_type": "code",
   "execution_count": null,
   "metadata": {},
   "outputs": [],
   "source": []
  }
 ],
 "metadata": {
  "kernelspec": {
   "display_name": "Python 3",
   "language": "python",
   "name": "python3"
  },
  "language_info": {
   "codemirror_mode": {
    "name": "ipython",
    "version": 3
   },
   "file_extension": ".py",
   "mimetype": "text/x-python",
   "name": "python",
   "nbconvert_exporter": "python",
   "pygments_lexer": "ipython3",
   "version": "3.8.2"
  }
 },
 "nbformat": 4,
 "nbformat_minor": 4
}
