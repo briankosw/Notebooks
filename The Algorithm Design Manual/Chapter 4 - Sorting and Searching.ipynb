{
 "cells": [
  {
   "cell_type": "markdown",
   "metadata": {
    "heading_collapsed": true
   },
   "source": [
    "## Selection Sort"
   ]
  },
  {
   "cell_type": "code",
   "execution_count": 78,
   "metadata": {
    "ExecuteTime": {
     "end_time": "2020-07-21T10:55:18.102333Z",
     "start_time": "2020-07-21T10:55:18.093990Z"
    },
    "hidden": true
   },
   "outputs": [],
   "source": [
    "def selection_sort(data):\n",
    "    for i in range(len(data) - 1):\n",
    "        min_idx = i\n",
    "        for j in range(i + 1, len(data)):\n",
    "            if data[j] < data[min_idx]:\n",
    "                min_idx = j\n",
    "        data[i], data[min_idx] = data[min_idx], data[i]\n",
    "    \n",
    "    return data"
   ]
  },
  {
   "cell_type": "code",
   "execution_count": 2,
   "metadata": {
    "ExecuteTime": {
     "end_time": "2020-07-21T02:01:16.068924Z",
     "start_time": "2020-07-21T02:01:16.064460Z"
    },
    "hidden": true
   },
   "outputs": [],
   "source": [
    "data = [10, 0, 3, 9, 15, 2, 5, 1]"
   ]
  },
  {
   "cell_type": "code",
   "execution_count": 3,
   "metadata": {
    "ExecuteTime": {
     "end_time": "2020-07-21T02:01:16.926004Z",
     "start_time": "2020-07-21T02:01:16.910102Z"
    },
    "hidden": true
   },
   "outputs": [
    {
     "data": {
      "text/plain": [
       "[0, 1, 2, 3, 5, 9, 10, 15]"
      ]
     },
     "execution_count": 3,
     "metadata": {},
     "output_type": "execute_result"
    }
   ],
   "source": [
    "selection_sort(data)"
   ]
  },
  {
   "cell_type": "markdown",
   "metadata": {
    "heading_collapsed": true
   },
   "source": [
    "## Insertion Sort"
   ]
  },
  {
   "cell_type": "code",
   "execution_count": 25,
   "metadata": {
    "ExecuteTime": {
     "end_time": "2020-06-20T18:26:29.373272Z",
     "start_time": "2020-06-20T18:26:29.367170Z"
    },
    "hidden": true
   },
   "outputs": [],
   "source": [
    "def insertion_sort(data):\n",
    "    for i in range(1, len(data)):\n",
    "        j = i\n",
    "        while j > 0 and data[j] < data[j - 1]:\n",
    "            data[j], data[j - 1] = data[j - 1], data[j]\n",
    "            j -= 1\n",
    "    \n",
    "    return data"
   ]
  },
  {
   "cell_type": "code",
   "execution_count": 26,
   "metadata": {
    "ExecuteTime": {
     "end_time": "2020-06-20T18:26:29.493803Z",
     "start_time": "2020-06-20T18:26:29.487138Z"
    },
    "hidden": true
   },
   "outputs": [],
   "source": [
    "data = [10, 0, 3, 9, 15, 2, 5, 1]"
   ]
  },
  {
   "cell_type": "code",
   "execution_count": 27,
   "metadata": {
    "ExecuteTime": {
     "end_time": "2020-06-20T18:26:29.620493Z",
     "start_time": "2020-06-20T18:26:29.612225Z"
    },
    "hidden": true
   },
   "outputs": [
    {
     "data": {
      "text/plain": [
       "[0, 1, 2, 3, 5, 9, 10, 15]"
      ]
     },
     "execution_count": 27,
     "metadata": {},
     "output_type": "execute_result"
    }
   ],
   "source": [
    "insertion_sort(data)"
   ]
  },
  {
   "cell_type": "markdown",
   "metadata": {
    "heading_collapsed": true
   },
   "source": [
    "## Shellsort"
   ]
  },
  {
   "cell_type": "code",
   "execution_count": 118,
   "metadata": {
    "ExecuteTime": {
     "end_time": "2020-06-20T22:59:35.735541Z",
     "start_time": "2020-06-20T22:59:35.729935Z"
    },
    "hidden": true
   },
   "outputs": [],
   "source": [
    "def shell_sort(data):\n",
    "    gap = len(data) // 2\n",
    "    while gap > 0:\n",
    "        for i in range(gap, len(data)):\n",
    "            val = data[i]\n",
    "            j = i\n",
    "            while j >= gap and data[j - gap] > val:\n",
    "                data[j] = data[j - gap]\n",
    "                j -= gap\n",
    "            data[j] = val\n",
    "        gap //= 2\n",
    "        \n",
    "    return data"
   ]
  },
  {
   "cell_type": "code",
   "execution_count": 119,
   "metadata": {
    "ExecuteTime": {
     "end_time": "2020-06-20T22:59:35.901877Z",
     "start_time": "2020-06-20T22:59:35.895904Z"
    },
    "hidden": true
   },
   "outputs": [],
   "source": [
    "data = [10, 0, 3, 9, 15, 2, 5, 1]"
   ]
  },
  {
   "cell_type": "code",
   "execution_count": 120,
   "metadata": {
    "ExecuteTime": {
     "end_time": "2020-06-20T22:59:36.245502Z",
     "start_time": "2020-06-20T22:59:36.239984Z"
    },
    "hidden": true
   },
   "outputs": [
    {
     "data": {
      "text/plain": [
       "[0, 1, 2, 3, 5, 9, 10, 15]"
      ]
     },
     "execution_count": 120,
     "metadata": {},
     "output_type": "execute_result"
    }
   ],
   "source": [
    "shell_sort(data)"
   ]
  },
  {
   "cell_type": "markdown",
   "metadata": {
    "heading_collapsed": true
   },
   "source": [
    "## Bubble Sort"
   ]
  },
  {
   "cell_type": "code",
   "execution_count": 31,
   "metadata": {
    "ExecuteTime": {
     "end_time": "2020-06-20T18:31:31.832816Z",
     "start_time": "2020-06-20T18:31:31.829035Z"
    },
    "hidden": true
   },
   "outputs": [],
   "source": [
    "def bubble_sort(data):\n",
    "    for i in range(len(data) - 1):\n",
    "        for j in range(len(data) - i - 1):\n",
    "            if data[j] > data[j + 1]:\n",
    "                data[j], data[j + 1] = data[j + 1], data[j]\n",
    "                \n",
    "    return data"
   ]
  },
  {
   "cell_type": "code",
   "execution_count": 32,
   "metadata": {
    "ExecuteTime": {
     "end_time": "2020-06-20T18:31:32.750247Z",
     "start_time": "2020-06-20T18:31:32.744718Z"
    },
    "hidden": true
   },
   "outputs": [],
   "source": [
    "data = [10, 0, 3, 9, 15, 2, 5, 1]"
   ]
  },
  {
   "cell_type": "code",
   "execution_count": 33,
   "metadata": {
    "ExecuteTime": {
     "end_time": "2020-06-20T18:31:32.916817Z",
     "start_time": "2020-06-20T18:31:32.911028Z"
    },
    "hidden": true
   },
   "outputs": [
    {
     "data": {
      "text/plain": [
       "[0, 1, 2, 3, 5, 9, 10, 15]"
      ]
     },
     "execution_count": 33,
     "metadata": {},
     "output_type": "execute_result"
    }
   ],
   "source": [
    "bubble_sort(data)"
   ]
  },
  {
   "cell_type": "markdown",
   "metadata": {
    "heading_collapsed": true
   },
   "source": [
    "## Heapsort"
   ]
  },
  {
   "cell_type": "code",
   "execution_count": 56,
   "metadata": {
    "ExecuteTime": {
     "end_time": "2020-06-20T19:39:57.473001Z",
     "start_time": "2020-06-20T19:39:57.458617Z"
    },
    "hidden": true
   },
   "outputs": [],
   "source": [
    "import math\n",
    "\n",
    "class Heap:\n",
    "    def __init__(self, *data):\n",
    "        self.heap = list(data)\n",
    "        self.curr_index = len(data)\n",
    "        for i in range(math.floor(len(data) / 2), -1, -1):\n",
    "            self.heapify_down(i)\n",
    "            \n",
    "    def heapify_up(self, index):\n",
    "        p_index = Heap.parent(index)\n",
    "        if p_index >= 0 and self.heap[p_index] > self.heap[index]:\n",
    "            self.heap[p_index], self.heap[index] = self.heap[index], self.heap[p_index]\n",
    "            self.heapify_up(p_index)\n",
    "    \n",
    "    def heapify_down(self, index):\n",
    "        l_index, r_index = Heap.left_child(index), Heap.right_child(index)\n",
    "        if l_index < self.curr_index and r_index < self.curr_index:\n",
    "            if self.heap[l_index] < self.heap[r_index] and self.heap[l_index] < self.heap[index]:\n",
    "                self.heap[l_index], self.heap[index] = self.heap[index], self.heap[l_index]\n",
    "                self.heapify_down(l_index)\n",
    "            elif self.heap[r_index] < self.heap[l_index] and self.heap[r_index] < self.heap[index]:\n",
    "                self.heap[r_index], self.heap[index] = self.heap[index], self.heap[r_index]\n",
    "                self.heapify_down(r_index)\n",
    "        elif l_index < self.curr_index and r_index >= self.curr_index:\n",
    "            if self.heap[l_index] < self.heap[index]:\n",
    "                self.heap[l_index], self.heap[index] = self.heap[index], self.heap[l_index]\n",
    "                self.heapify_down(l_index)\n",
    "        elif r_index < self.curr_index and l_index >= self.curr_index:\n",
    "            if self.heap[r_index] < self.heap[index]:\n",
    "                self.heap[r_index], self.heap[index] = self.heap[index], self.heap[r_index]\n",
    "                self.heapify_down(r_index)\n",
    "    \n",
    "    def extract_min(self):\n",
    "        if self.curr_index > 1:\n",
    "            ret = self.heap[0]\n",
    "            end = self.heap.pop()\n",
    "            self.heap[0] = end\n",
    "            self.curr_index -= 1\n",
    "            self.heapify_down(0)\n",
    "        else:\n",
    "            ret = self.heap.pop()\n",
    "        \n",
    "        return ret\n",
    "    \n",
    "    @staticmethod\n",
    "    def parent(index):\n",
    "        return math.floor((index - 1) / 2)\n",
    "    \n",
    "    @staticmethod\n",
    "    def left_child(index):\n",
    "        return index * 2 + 1\n",
    "    \n",
    "    @staticmethod\n",
    "    def right_child(index):\n",
    "        return index * 2 + 2"
   ]
  },
  {
   "cell_type": "code",
   "execution_count": 57,
   "metadata": {
    "ExecuteTime": {
     "end_time": "2020-06-20T19:39:59.352105Z",
     "start_time": "2020-06-20T19:39:59.346410Z"
    },
    "hidden": true
   },
   "outputs": [],
   "source": [
    "data = [10, 0, 3, 9, 15, 2, 5, 1]"
   ]
  },
  {
   "cell_type": "code",
   "execution_count": 58,
   "metadata": {
    "ExecuteTime": {
     "end_time": "2020-06-20T19:39:59.550697Z",
     "start_time": "2020-06-20T19:39:59.544771Z"
    },
    "hidden": true
   },
   "outputs": [],
   "source": [
    "heap = Heap(*data)"
   ]
  },
  {
   "cell_type": "code",
   "execution_count": 59,
   "metadata": {
    "ExecuteTime": {
     "end_time": "2020-06-20T19:39:59.972856Z",
     "start_time": "2020-06-20T19:39:59.963904Z"
    },
    "hidden": true
   },
   "outputs": [
    {
     "data": {
      "text/plain": [
       "[0, 1, 2, 9, 15, 3, 5, 10]"
      ]
     },
     "execution_count": 59,
     "metadata": {},
     "output_type": "execute_result"
    }
   ],
   "source": [
    "heap.heap"
   ]
  },
  {
   "cell_type": "code",
   "execution_count": 52,
   "metadata": {
    "ExecuteTime": {
     "end_time": "2020-06-20T19:02:30.959872Z",
     "start_time": "2020-06-20T19:02:30.954006Z"
    },
    "hidden": true
   },
   "outputs": [],
   "source": [
    "def heapsort(data):\n",
    "    heap = Heap(*data)\n",
    "    for i in range(len(data) - 1, 0, -1):\n",
    "        heap.heap[0], heap.heap[i] = heap.heap[i], heap.heap[0]\n",
    "        heap.curr_index -= 1\n",
    "        heap.heapify_down(0)\n",
    "    heap.heap.reverse()\n",
    "        \n",
    "    return heap.heap"
   ]
  },
  {
   "cell_type": "code",
   "execution_count": 60,
   "metadata": {
    "ExecuteTime": {
     "end_time": "2020-06-20T19:40:04.632057Z",
     "start_time": "2020-06-20T19:40:04.626323Z"
    },
    "hidden": true
   },
   "outputs": [
    {
     "data": {
      "text/plain": [
       "[0, 1, 2, 3, 5, 9, 10, 15]"
      ]
     },
     "execution_count": 60,
     "metadata": {},
     "output_type": "execute_result"
    }
   ],
   "source": [
    "heapsort(data)"
   ]
  },
  {
   "cell_type": "markdown",
   "metadata": {
    "heading_collapsed": true
   },
   "source": [
    "## Mergesort"
   ]
  },
  {
   "cell_type": "code",
   "execution_count": 73,
   "metadata": {
    "ExecuteTime": {
     "end_time": "2020-06-20T22:24:12.244581Z",
     "start_time": "2020-06-20T22:24:12.227554Z"
    },
    "hidden": true
   },
   "outputs": [],
   "source": [
    "import math\n",
    "\n",
    "def merge(left, right):\n",
    "    l = []\n",
    "    i, j = 0, 0\n",
    "    while i < len(left) and j < len(right):\n",
    "        if left[i] < right[j]:\n",
    "            l.append(left[i])\n",
    "            i += 1\n",
    "        else:\n",
    "            l.append(right[j])\n",
    "            j += 1\n",
    "    if i < len(left):\n",
    "        l.extend(left[i:])\n",
    "    elif j < len(right):\n",
    "        l.extend(right[j:])\n",
    "        \n",
    "    return l\n",
    "            \n",
    "\n",
    "def mergesort(data):\n",
    "    if len(data) > 1:\n",
    "        mid = math.floor(len(data) / 2)\n",
    "        left, right = mergesort(data[:mid]), mergesort(data[mid:])\n",
    "        return merge(left, right)\n",
    "    else:\n",
    "        return data"
   ]
  },
  {
   "cell_type": "code",
   "execution_count": 74,
   "metadata": {
    "ExecuteTime": {
     "end_time": "2020-06-20T22:24:13.487336Z",
     "start_time": "2020-06-20T22:24:13.482428Z"
    },
    "hidden": true
   },
   "outputs": [],
   "source": [
    "data = [10, 0, 3, 9, 15, 2, 5, 1]"
   ]
  },
  {
   "cell_type": "code",
   "execution_count": 75,
   "metadata": {
    "ExecuteTime": {
     "end_time": "2020-06-20T22:24:14.178568Z",
     "start_time": "2020-06-20T22:24:14.170010Z"
    },
    "hidden": true
   },
   "outputs": [
    {
     "data": {
      "text/plain": [
       "[0, 1, 2, 3, 5, 9, 10, 15]"
      ]
     },
     "execution_count": 75,
     "metadata": {},
     "output_type": "execute_result"
    }
   ],
   "source": [
    "mergesort(data)"
   ]
  },
  {
   "cell_type": "markdown",
   "metadata": {
    "heading_collapsed": true
   },
   "source": [
    "## Quicksort"
   ]
  },
  {
   "cell_type": "code",
   "execution_count": 74,
   "metadata": {
    "ExecuteTime": {
     "end_time": "2020-07-21T10:54:54.427245Z",
     "start_time": "2020-07-21T10:54:54.413690Z"
    },
    "hidden": true
   },
   "outputs": [],
   "source": [
    "def quicksort(data):\n",
    "    return _quicksort(data, 0, len(data) - 1)\n",
    "\n",
    "def _quicksort(data, l, r):\n",
    "    if l < r:\n",
    "        p = partition(data, l, r)\n",
    "        _quicksort(data, l, p - 1)\n",
    "        _quicksort(data, p + 1, r)\n",
    "        \n",
    "    return data\n",
    "\n",
    "def partition(data, l, r):\n",
    "    pivot = r\n",
    "    x = l\n",
    "    for y in range(l, r):\n",
    "        if data[y] < data[pivot]:\n",
    "            data[x], data[y] = data[y], data[x]\n",
    "            x += 1\n",
    "    data[x], data[pivot] = data[pivot], data[x]\n",
    "    \n",
    "    return x"
   ]
  },
  {
   "cell_type": "code",
   "execution_count": 75,
   "metadata": {
    "ExecuteTime": {
     "end_time": "2020-07-21T10:54:55.909509Z",
     "start_time": "2020-07-21T10:54:55.898590Z"
    },
    "hidden": true
   },
   "outputs": [],
   "source": [
    "data = [10, 0, 3, 9, 15, 2, 5, 1]"
   ]
  },
  {
   "cell_type": "code",
   "execution_count": 76,
   "metadata": {
    "ExecuteTime": {
     "end_time": "2020-07-21T10:54:56.329743Z",
     "start_time": "2020-07-21T10:54:56.311940Z"
    },
    "hidden": true
   },
   "outputs": [
    {
     "data": {
      "text/plain": [
       "[0, 1, 2, 3, 5, 9, 10, 15]"
      ]
     },
     "execution_count": 76,
     "metadata": {},
     "output_type": "execute_result"
    }
   ],
   "source": [
    "quicksort(data)"
   ]
  },
  {
   "cell_type": "markdown",
   "metadata": {
    "heading_collapsed": true
   },
   "source": [
    "## Bucket sort"
   ]
  },
  {
   "cell_type": "code",
   "execution_count": 65,
   "metadata": {
    "ExecuteTime": {
     "end_time": "2020-07-21T10:38:16.787300Z",
     "start_time": "2020-07-21T10:38:16.781133Z"
    },
    "hidden": true
   },
   "outputs": [],
   "source": [
    "import math\n",
    "from itertools import chain\n",
    "\n",
    "def bucket_sort(data, num_buckets):\n",
    "    max_val = max(data)\n",
    "    buckets = [[] for _ in range(num_buckets)]\n",
    "    for elem in data:\n",
    "        bucket_idx = math.floor(num_buckets * elem / max_val)\n",
    "        if bucket_idx == num_buckets:\n",
    "            bucket_idx -= 1\n",
    "        buckets[bucket_idx].append(elem)\n",
    "    for i in range(num_buckets):\n",
    "        buckets[i].sort()\n",
    "    \n",
    "    return list(chain(*buckets))"
   ]
  },
  {
   "cell_type": "code",
   "execution_count": 66,
   "metadata": {
    "ExecuteTime": {
     "end_time": "2020-07-21T10:38:16.951031Z",
     "start_time": "2020-07-21T10:38:16.945233Z"
    },
    "hidden": true
   },
   "outputs": [],
   "source": [
    "data = [10, 0, 3, 9, 15, 2, 5, 1]"
   ]
  },
  {
   "cell_type": "code",
   "execution_count": 69,
   "metadata": {
    "ExecuteTime": {
     "end_time": "2020-07-21T10:38:27.501156Z",
     "start_time": "2020-07-21T10:38:27.462325Z"
    },
    "hidden": true
   },
   "outputs": [
    {
     "data": {
      "text/plain": [
       "[0, 1, 2, 3, 5, 9, 10, 15]"
      ]
     },
     "execution_count": 69,
     "metadata": {},
     "output_type": "execute_result"
    }
   ],
   "source": [
    "bucket_sort(data, 3)"
   ]
  },
  {
   "cell_type": "markdown",
   "metadata": {
    "heading_collapsed": true
   },
   "source": [
    "## Counting sort"
   ]
  },
  {
   "cell_type": "code",
   "execution_count": 71,
   "metadata": {
    "ExecuteTime": {
     "end_time": "2020-07-21T10:54:12.834269Z",
     "start_time": "2020-07-21T10:54:12.822853Z"
    },
    "hidden": true
   },
   "outputs": [],
   "source": [
    "def counting_sort(data, low, high):\n",
    "    count_list = [0] * (high - low + 1)\n",
    "    for elem in data:\n",
    "        idx = elem - low\n",
    "        count_list[idx] += 1\n",
    "    out = []\n",
    "    for idx, count in enumerate(count_list):\n",
    "        out += [low + idx] * count\n",
    "        \n",
    "    return out"
   ]
  },
  {
   "cell_type": "code",
   "execution_count": 72,
   "metadata": {
    "ExecuteTime": {
     "end_time": "2020-07-21T10:54:21.749568Z",
     "start_time": "2020-07-21T10:54:21.742028Z"
    },
    "hidden": true
   },
   "outputs": [],
   "source": [
    "data = [10, 0, 3, 9, 15, 2, 5, 1]"
   ]
  },
  {
   "cell_type": "code",
   "execution_count": 73,
   "metadata": {
    "ExecuteTime": {
     "end_time": "2020-07-21T10:54:31.384341Z",
     "start_time": "2020-07-21T10:54:31.374395Z"
    },
    "hidden": true
   },
   "outputs": [
    {
     "data": {
      "text/plain": [
       "[0, 1, 2, 3, 5, 9, 10, 15]"
      ]
     },
     "execution_count": 73,
     "metadata": {},
     "output_type": "execute_result"
    }
   ],
   "source": [
    "counting_sort(data, 0, 15)"
   ]
  },
  {
   "cell_type": "markdown",
   "metadata": {},
   "source": [
    "## Radix sort"
   ]
  },
  {
   "cell_type": "code",
   "execution_count": null,
   "metadata": {},
   "outputs": [],
   "source": []
  }
 ],
 "metadata": {
  "kernelspec": {
   "display_name": "Python 3",
   "language": "python",
   "name": "python3"
  },
  "language_info": {
   "codemirror_mode": {
    "name": "ipython",
    "version": 3
   },
   "file_extension": ".py",
   "mimetype": "text/x-python",
   "name": "python",
   "nbconvert_exporter": "python",
   "pygments_lexer": "ipython3",
   "version": "3.7.6"
  }
 },
 "nbformat": 4,
 "nbformat_minor": 4
}
