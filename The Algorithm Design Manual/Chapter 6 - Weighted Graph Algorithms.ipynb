{
 "cells": [
  {
   "cell_type": "markdown",
   "metadata": {
    "heading_collapsed": true
   },
   "source": [
    "## Imports"
   ]
  },
  {
   "cell_type": "code",
   "execution_count": 81,
   "metadata": {
    "ExecuteTime": {
     "end_time": "2020-08-03T10:11:34.316847Z",
     "start_time": "2020-08-03T10:11:34.305771Z"
    },
    "hidden": true
   },
   "outputs": [],
   "source": [
    "import sys\n",
    "import math\n",
    "import heapq as hq\n",
    "from collections import defaultdict\n",
    "\n",
    "\n",
    "from graphviz import Digraph"
   ]
  },
  {
   "cell_type": "markdown",
   "metadata": {
    "heading_collapsed": true
   },
   "source": [
    "## Graph"
   ]
  },
  {
   "cell_type": "code",
   "execution_count": 40,
   "metadata": {
    "ExecuteTime": {
     "end_time": "2020-08-03T01:26:17.950091Z",
     "start_time": "2020-08-03T01:26:17.919673Z"
    },
    "hidden": true
   },
   "outputs": [],
   "source": [
    "class Graph:\n",
    "    def __init__(self, edges, directed=False):\n",
    "        self.directed = directed\n",
    "        self._vertices = set()\n",
    "        self.num_vertices = 0\n",
    "        self.num_edges = 0\n",
    "        self.edges = defaultdict(list)\n",
    "        for edge in edges:\n",
    "            self.insert_edge(edge)\n",
    "            \n",
    "    def insert_edge(self, edge):\n",
    "        u, v, w = edge\n",
    "        self._vertices.add(u)\n",
    "        self._vertices.add(v)\n",
    "        self.edges[u].append((v, w))\n",
    "        if not self.directed:\n",
    "            self.edges[v].append((u, w))\n",
    "        self.num_vertices = len(self._vertices)\n",
    "        \n",
    "    def visualize(self):\n",
    "        graph = Digraph(engine=\"sfdp\")\n",
    "        for p_vertex in self.edges:\n",
    "            graph.node(str(p_vertex))\n",
    "            for (c_vertex, weight) in self.edges[p_vertex]:\n",
    "                graph.node(str(c_vertex))\n",
    "                graph.edge(str(p_vertex), str(c_vertex), label=str(weight))\n",
    "        \n",
    "        return graph\n",
    "        \n",
    "    def __str__(self):\n",
    "        out_str = \"\"\n",
    "        for p_vertex, children in self.edges.items():\n",
    "            p_str = \"{} :\".format(p_vertex)\n",
    "            for c_vertex, weight in children:\n",
    "                p_str += \"({}, {}) \".format(c_vertex, weight)\n",
    "            out_str += p_str + \"\\n\"\n",
    "        \n",
    "        return out_str"
   ]
  },
  {
   "cell_type": "markdown",
   "metadata": {
    "heading_collapsed": true
   },
   "source": [
    "## Prim's Algorithm"
   ]
  },
  {
   "cell_type": "code",
   "execution_count": 3,
   "metadata": {
    "ExecuteTime": {
     "end_time": "2020-08-03T01:22:23.903427Z",
     "start_time": "2020-08-03T01:22:23.893419Z"
    },
    "hidden": true
   },
   "outputs": [],
   "source": [
    "def prim(graph, start=None):\n",
    "    if start is None:\n",
    "        start = next(iter(graph.edges))\n",
    "    visited = [False] * len(graph.edges)\n",
    "    distances = [(0, start)]\n",
    "    total_weight = 0\n",
    "    while distances:\n",
    "        weight, vertex = hq.heappop(distances)\n",
    "        if not visited[vertex]:\n",
    "            visited[vertex] = True\n",
    "            total_weight += weight\n",
    "            for vertex, weight in graph.edges[vertex]:\n",
    "                hq.heappush(distances, (weight, vertex))\n",
    "    return total_weight"
   ]
  },
  {
   "cell_type": "code",
   "execution_count": 4,
   "metadata": {
    "ExecuteTime": {
     "end_time": "2020-08-03T01:22:24.381695Z",
     "start_time": "2020-08-03T01:22:24.372264Z"
    },
    "hidden": true
   },
   "outputs": [],
   "source": [
    "g = Graph(\n",
    "    [(0, 1, 5), (0, 2, 7), (0, 3, 12), (1, 4, 7), (4, 5, 2), (1, 2, 9), (3, 2, 4), (4, 2, 4), (3, 5, 7), (5, 2, 3), (5, 6, 2), (4, 6, 5)]\n",
    ")"
   ]
  },
  {
   "cell_type": "code",
   "execution_count": 5,
   "metadata": {
    "ExecuteTime": {
     "end_time": "2020-08-03T01:22:24.731429Z",
     "start_time": "2020-08-03T01:22:24.722365Z"
    },
    "hidden": true
   },
   "outputs": [],
   "source": [
    "minimum_total_weight = prim(g, start=0)"
   ]
  },
  {
   "cell_type": "code",
   "execution_count": 6,
   "metadata": {
    "ExecuteTime": {
     "end_time": "2020-08-03T01:22:25.576589Z",
     "start_time": "2020-08-03T01:22:25.558130Z"
    },
    "hidden": true
   },
   "outputs": [
    {
     "data": {
      "text/plain": [
       "23"
      ]
     },
     "execution_count": 6,
     "metadata": {},
     "output_type": "execute_result"
    }
   ],
   "source": [
    "minimum_total_weight"
   ]
  },
  {
   "cell_type": "markdown",
   "metadata": {
    "heading_collapsed": true
   },
   "source": [
    "## Kruskal's Algorithm"
   ]
  },
  {
   "cell_type": "code",
   "execution_count": 7,
   "metadata": {
    "ExecuteTime": {
     "end_time": "2020-08-03T01:22:32.794123Z",
     "start_time": "2020-08-03T01:22:32.781304Z"
    },
    "hidden": true
   },
   "outputs": [],
   "source": [
    "class UnionFind:\n",
    "    def __init__(self, nodes):\n",
    "        self.nodes = nodes\n",
    "        self.num_components = len(self.nodes)\n",
    "        self.sizes = [1] * len(self.nodes)\n",
    "        \n",
    "    def find(self, x):\n",
    "        parent = self.nodes[x]\n",
    "        while parent != self.nodes[parent]:\n",
    "            parent = self.nodes[parent]\n",
    "        self.nodes[x] = parent\n",
    "        \n",
    "        return parent\n",
    "    \n",
    "    def union(self, x, y):\n",
    "        p_x, p_y = self.find(x), self.find(y)\n",
    "        if p_x != p_y:\n",
    "            if self.sizes[p_x] < self.sizes[p_y]:\n",
    "                self.nodes[p_x] = p_y\n",
    "                self.sizes[p_y] += self.sizes[p_x]\n",
    "                self.num_components -= 1\n",
    "            else:\n",
    "                self.nodes[p_y] = p_x\n",
    "                self.sizes[p_x] += self.sizes[p_y]\n",
    "                self.num_components -= 1"
   ]
  },
  {
   "cell_type": "code",
   "execution_count": 8,
   "metadata": {
    "ExecuteTime": {
     "end_time": "2020-08-03T01:22:33.581964Z",
     "start_time": "2020-08-03T01:22:33.561236Z"
    },
    "hidden": true
   },
   "outputs": [],
   "source": [
    "def kruskal(graph):\n",
    "    total_cost = 0\n",
    "    MST_edges = []\n",
    "    edges = []\n",
    "    union_find = UnionFind(list(range(len(graph.edges))))\n",
    "    for p_vertex in graph.edges:\n",
    "        for (c_vertex, weight) in graph.edges[p_vertex]:\n",
    "            hq.heappush(edges, (weight, p_vertex, c_vertex))\n",
    "    while edges:\n",
    "        weight, p_vertex, c_vertex = hq.heappop(edges)\n",
    "        if union_find.find(p_vertex) != union_find.find(c_vertex):\n",
    "            MST_edges.append((p_vertex, c_vertex))\n",
    "            total_cost += weight\n",
    "            union_find.union(p_vertex, c_vertex)\n",
    "    \n",
    "    return total_cost, MST_edges"
   ]
  },
  {
   "cell_type": "code",
   "execution_count": 9,
   "metadata": {
    "ExecuteTime": {
     "end_time": "2020-08-03T01:22:34.405246Z",
     "start_time": "2020-08-03T01:22:34.388737Z"
    },
    "hidden": true
   },
   "outputs": [],
   "source": [
    "g = Graph(\n",
    "    [(0, 1, 5), (0, 2, 7), (0, 3, 12), (1, 4, 7), (4, 5, 2), (1, 2, 9), (3, 2, 4), (4, 2, 4), (3, 5, 7), (5, 2, 3), (5, 6, 2), (4, 6, 5)]\n",
    ")"
   ]
  },
  {
   "cell_type": "code",
   "execution_count": 10,
   "metadata": {
    "ExecuteTime": {
     "end_time": "2020-08-03T01:22:34.737453Z",
     "start_time": "2020-08-03T01:22:34.729308Z"
    },
    "hidden": true
   },
   "outputs": [],
   "source": [
    "minimum_total_weight, MST_edges = kruskal(g)"
   ]
  },
  {
   "cell_type": "code",
   "execution_count": 11,
   "metadata": {
    "ExecuteTime": {
     "end_time": "2020-08-03T01:22:35.602622Z",
     "start_time": "2020-08-03T01:22:35.588845Z"
    },
    "hidden": true
   },
   "outputs": [
    {
     "data": {
      "text/plain": [
       "23"
      ]
     },
     "execution_count": 11,
     "metadata": {},
     "output_type": "execute_result"
    }
   ],
   "source": [
    "minimum_total_weight"
   ]
  },
  {
   "cell_type": "code",
   "execution_count": 12,
   "metadata": {
    "ExecuteTime": {
     "end_time": "2020-08-03T01:22:36.210855Z",
     "start_time": "2020-08-03T01:22:36.196802Z"
    },
    "hidden": true
   },
   "outputs": [
    {
     "data": {
      "text/plain": [
       "[(4, 5), (5, 6), (2, 5), (2, 3), (0, 1), (0, 2)]"
      ]
     },
     "execution_count": 12,
     "metadata": {},
     "output_type": "execute_result"
    }
   ],
   "source": [
    "MST_edges"
   ]
  },
  {
   "cell_type": "markdown",
   "metadata": {
    "heading_collapsed": true
   },
   "source": [
    "## Dijkstra's Algorithm"
   ]
  },
  {
   "cell_type": "code",
   "execution_count": 57,
   "metadata": {
    "ExecuteTime": {
     "end_time": "2020-08-03T01:41:39.865526Z",
     "start_time": "2020-08-03T01:41:39.855335Z"
    },
    "hidden": true
   },
   "outputs": [],
   "source": [
    "def dijkstra(graph, start=None):\n",
    "    if start is None:\n",
    "        start = next(iter(graph.edges))\n",
    "    visited = set()\n",
    "    edges = []\n",
    "    edges.append((0, start, start))\n",
    "    distances = {i: [sys.maxsize, -1] for i in range(len(graph.edges))}\n",
    "    distances[start] = [0, -1]\n",
    "    while edges:\n",
    "        weight, p_vertex, c_vertex = hq.heappop(edges)\n",
    "        dist = distances[p_vertex][0]\n",
    "        if weight + dist < distances[c_vertex][0]:\n",
    "            distances[c_vertex] = [weight + dist, p_vertex]\n",
    "        if c_vertex not in visited:\n",
    "            visited.add(c_vertex)\n",
    "            for g_vertex, weight in graph.edges[c_vertex]:\n",
    "                hq.heappush(edges, (weight, c_vertex, g_vertex))\n",
    "    \n",
    "    return distances"
   ]
  },
  {
   "cell_type": "code",
   "execution_count": 58,
   "metadata": {
    "ExecuteTime": {
     "end_time": "2020-08-03T01:41:39.993171Z",
     "start_time": "2020-08-03T01:41:39.986318Z"
    },
    "hidden": true
   },
   "outputs": [],
   "source": [
    "g = Graph(\n",
    "    [(0, 1, 5), (0, 2, 7), (0, 3, 12), (1, 4, 7), (4, 5, 2), (1, 2, 9), (3, 2, 4), (4, 2, 4), (3, 5, 7), (5, 2, 3), (5, 6, 2), (4, 6, 5)]\n",
    ")"
   ]
  },
  {
   "cell_type": "code",
   "execution_count": 59,
   "metadata": {
    "ExecuteTime": {
     "end_time": "2020-08-03T01:41:40.124865Z",
     "start_time": "2020-08-03T01:41:40.116806Z"
    },
    "hidden": true
   },
   "outputs": [],
   "source": [
    "distances = dijkstra(g)"
   ]
  },
  {
   "cell_type": "code",
   "execution_count": 60,
   "metadata": {
    "ExecuteTime": {
     "end_time": "2020-08-03T01:41:41.937371Z",
     "start_time": "2020-08-03T01:41:41.929422Z"
    },
    "hidden": true
   },
   "outputs": [
    {
     "data": {
      "text/plain": [
       "{0: [0, -1],\n",
       " 1: [5, 0],\n",
       " 2: [7, 0],\n",
       " 3: [11, 2],\n",
       " 4: [11, 2],\n",
       " 5: [10, 2],\n",
       " 6: [12, 5]}"
      ]
     },
     "execution_count": 60,
     "metadata": {},
     "output_type": "execute_result"
    }
   ],
   "source": [
    "distances"
   ]
  },
  {
   "cell_type": "code",
   "execution_count": 61,
   "metadata": {
    "ExecuteTime": {
     "end_time": "2020-08-03T01:41:45.361513Z",
     "start_time": "2020-08-03T01:41:45.233527Z"
    },
    "hidden": true
   },
   "outputs": [
    {
     "data": {
      "image/svg+xml": [
       "<?xml version=\"1.0\" encoding=\"UTF-8\" standalone=\"no\"?>\n",
       "<!DOCTYPE svg PUBLIC \"-//W3C//DTD SVG 1.1//EN\"\n",
       " \"http://www.w3.org/Graphics/SVG/1.1/DTD/svg11.dtd\">\n",
       "<!-- Generated by graphviz version 2.42.3 (20191010.1750)\n",
       " -->\n",
       "<!-- Title: %3 Pages: 1 -->\n",
       "<svg width=\"584pt\" height=\"360pt\"\n",
       " viewBox=\"0.00 0.00 584.38 359.53\" xmlns=\"http://www.w3.org/2000/svg\" xmlns:xlink=\"http://www.w3.org/1999/xlink\">\n",
       "<g id=\"graph0\" class=\"graph\" transform=\"scale(1 1) rotate(0) translate(4 355.53)\">\n",
       "<title>%3</title>\n",
       "<polygon fill=\"white\" stroke=\"transparent\" points=\"-4,4 -4,-355.53 580.38,-355.53 580.38,4 -4,4\"/>\n",
       "<!-- 0 -->\n",
       "<g id=\"node1\" class=\"node\">\n",
       "<title>0</title>\n",
       "<ellipse fill=\"none\" stroke=\"black\" cx=\"549.38\" cy=\"-175.9\" rx=\"27\" ry=\"18\"/>\n",
       "<text text-anchor=\"middle\" x=\"549.38\" y=\"-171.7\" font-family=\"Times,serif\" font-size=\"14.00\">0</text>\n",
       "</g>\n",
       "<!-- 1 -->\n",
       "<g id=\"node2\" class=\"node\">\n",
       "<title>1</title>\n",
       "<ellipse fill=\"none\" stroke=\"black\" cx=\"423.3\" cy=\"-333.53\" rx=\"27\" ry=\"18\"/>\n",
       "<text text-anchor=\"middle\" x=\"423.3\" y=\"-329.33\" font-family=\"Times,serif\" font-size=\"14.00\">1</text>\n",
       "</g>\n",
       "<!-- 0&#45;&gt;1 -->\n",
       "<g id=\"edge1\" class=\"edge\">\n",
       "<title>0&#45;&gt;1</title>\n",
       "<path fill=\"none\" stroke=\"black\" d=\"M532.48,-190.04C507.41,-216.62 461.28,-273.99 437.71,-307.63\"/>\n",
       "<polygon fill=\"black\" stroke=\"black\" points=\"434.72,-305.81 431.96,-316.05 440.5,-309.76 434.72,-305.81\"/>\n",
       "<text text-anchor=\"middle\" x=\"481.59\" y=\"-251.64\" font-family=\"Times,serif\" font-size=\"14.00\">5</text>\n",
       "</g>\n",
       "<!-- 2 -->\n",
       "<g id=\"node3\" class=\"node\">\n",
       "<title>2</title>\n",
       "<ellipse fill=\"none\" stroke=\"black\" cx=\"373.88\" cy=\"-175.68\" rx=\"27\" ry=\"18\"/>\n",
       "<text text-anchor=\"middle\" x=\"373.88\" y=\"-171.48\" font-family=\"Times,serif\" font-size=\"14.00\">2</text>\n",
       "</g>\n",
       "<!-- 0&#45;&gt;2 -->\n",
       "<g id=\"edge2\" class=\"edge\">\n",
       "<title>0&#45;&gt;2</title>\n",
       "<path fill=\"none\" stroke=\"black\" d=\"M523.11,-170.89C493.18,-168.72 444.05,-168.45 410.4,-170.12\"/>\n",
       "<polygon fill=\"black\" stroke=\"black\" points=\"409.83,-166.65 400.06,-170.74 410.25,-173.64 409.83,-166.65\"/>\n",
       "<text text-anchor=\"middle\" x=\"463.26\" y=\"-173.31\" font-family=\"Times,serif\" font-size=\"14.00\">7</text>\n",
       "</g>\n",
       "<!-- 3 -->\n",
       "<g id=\"node4\" class=\"node\">\n",
       "<title>3</title>\n",
       "<ellipse fill=\"none\" stroke=\"black\" cx=\"423.8\" cy=\"-18\" rx=\"27\" ry=\"18\"/>\n",
       "<text text-anchor=\"middle\" x=\"423.8\" y=\"-13.8\" font-family=\"Times,serif\" font-size=\"14.00\">3</text>\n",
       "</g>\n",
       "<!-- 0&#45;&gt;3 -->\n",
       "<g id=\"edge3\" class=\"edge\">\n",
       "<title>0&#45;&gt;3</title>\n",
       "<path fill=\"none\" stroke=\"black\" d=\"M541.01,-158.77C521.99,-129.78 475.98,-71.41 447.5,-39.65\"/>\n",
       "<polygon fill=\"black\" stroke=\"black\" points=\"450,-37.19 440.66,-32.18 444.83,-41.92 450,-37.19\"/>\n",
       "<text text-anchor=\"middle\" x=\"487.26\" y=\"-102.01\" font-family=\"Times,serif\" font-size=\"14.00\">12</text>\n",
       "</g>\n",
       "<!-- 1&#45;&gt;0 -->\n",
       "<g id=\"edge4\" class=\"edge\">\n",
       "<title>1&#45;&gt;0</title>\n",
       "<path fill=\"none\" stroke=\"black\" d=\"M440.2,-319.39C465.27,-292.82 511.4,-235.44 534.97,-201.8\"/>\n",
       "<polygon fill=\"black\" stroke=\"black\" points=\"537.96,-203.62 540.71,-193.39 532.18,-199.67 537.96,-203.62\"/>\n",
       "<text text-anchor=\"middle\" x=\"491.08\" y=\"-263.4\" font-family=\"Times,serif\" font-size=\"14.00\">5</text>\n",
       "</g>\n",
       "<!-- 1&#45;&gt;2 -->\n",
       "<g id=\"edge6\" class=\"edge\">\n",
       "<title>1&#45;&gt;2</title>\n",
       "<path fill=\"none\" stroke=\"black\" d=\"M422.18,-315.33C416.43,-287.5 400.1,-234.29 387.74,-202.18\"/>\n",
       "<polygon fill=\"black\" stroke=\"black\" points=\"390.85,-200.54 383.89,-192.55 384.36,-203.14 390.85,-200.54\"/>\n",
       "<text text-anchor=\"middle\" x=\"401.46\" y=\"-261.56\" font-family=\"Times,serif\" font-size=\"14.00\">9</text>\n",
       "</g>\n",
       "<!-- 4 -->\n",
       "<g id=\"node5\" class=\"node\">\n",
       "<title>4</title>\n",
       "<ellipse fill=\"none\" stroke=\"black\" cx=\"211.43\" cy=\"-264.45\" rx=\"27\" ry=\"18\"/>\n",
       "<text text-anchor=\"middle\" x=\"211.43\" y=\"-260.25\" font-family=\"Times,serif\" font-size=\"14.00\">4</text>\n",
       "</g>\n",
       "<!-- 1&#45;&gt;4 -->\n",
       "<g id=\"edge5\" class=\"edge\">\n",
       "<title>1&#45;&gt;4</title>\n",
       "<path fill=\"none\" stroke=\"black\" d=\"M402.37,-322.14C366.41,-307.36 292.52,-282.98 247.94,-270.93\"/>\n",
       "<polygon fill=\"black\" stroke=\"black\" points=\"248.64,-267.49 238.08,-268.35 246.87,-274.27 248.64,-267.49\"/>\n",
       "<text text-anchor=\"middle\" x=\"321.65\" y=\"-299.34\" font-family=\"Times,serif\" font-size=\"14.00\">7</text>\n",
       "</g>\n",
       "<!-- 2&#45;&gt;0 -->\n",
       "<g id=\"edge7\" class=\"edge\">\n",
       "<title>2&#45;&gt;0</title>\n",
       "<path fill=\"none\" stroke=\"black\" d=\"M400.15,-180.69C430.09,-182.86 479.22,-183.13 512.87,-181.46\"/>\n",
       "<polygon fill=\"black\" stroke=\"black\" points=\"513.43,-184.93 523.21,-180.85 513.02,-177.94 513.43,-184.93\"/>\n",
       "<text text-anchor=\"middle\" x=\"453.01\" y=\"-183.88\" font-family=\"Times,serif\" font-size=\"14.00\">7</text>\n",
       "</g>\n",
       "<!-- 2&#45;&gt;1 -->\n",
       "<g id=\"edge8\" class=\"edge\">\n",
       "<title>2&#45;&gt;1</title>\n",
       "<path fill=\"none\" stroke=\"black\" d=\"M375,-193.88C380.76,-221.7 397.09,-274.92 409.44,-307.03\"/>\n",
       "<polygon fill=\"black\" stroke=\"black\" points=\"406.33,-308.67 413.29,-316.65 412.83,-306.07 406.33,-308.67\"/>\n",
       "<text text-anchor=\"middle\" x=\"388.72\" y=\"-253.25\" font-family=\"Times,serif\" font-size=\"14.00\">9</text>\n",
       "</g>\n",
       "<!-- 2&#45;&gt;3 -->\n",
       "<g id=\"edge9\" class=\"edge\">\n",
       "<title>2&#45;&gt;3</title>\n",
       "<path fill=\"none\" stroke=\"black\" d=\"M383.9,-158.95C395.3,-132.04 412.36,-78.92 420.36,-46.12\"/>\n",
       "<polygon fill=\"black\" stroke=\"black\" points=\"423.8,-46.77 422.62,-36.24 416.98,-45.21 423.8,-46.77\"/>\n",
       "<text text-anchor=\"middle\" x=\"398.63\" y=\"-105.33\" font-family=\"Times,serif\" font-size=\"14.00\">4</text>\n",
       "</g>\n",
       "<!-- 2&#45;&gt;4 -->\n",
       "<g id=\"edge10\" class=\"edge\">\n",
       "<title>2&#45;&gt;4</title>\n",
       "<path fill=\"none\" stroke=\"black\" d=\"M349.33,-183.61C318.9,-197.47 267.41,-225.45 236.67,-244.7\"/>\n",
       "<polygon fill=\"black\" stroke=\"black\" points=\"234.74,-241.78 228.21,-250.13 238.52,-247.67 234.74,-241.78\"/>\n",
       "<text text-anchor=\"middle\" x=\"289.5\" y=\"-202.95\" font-family=\"Times,serif\" font-size=\"14.00\">4</text>\n",
       "</g>\n",
       "<!-- 5 -->\n",
       "<g id=\"node6\" class=\"node\">\n",
       "<title>5</title>\n",
       "<ellipse fill=\"none\" stroke=\"black\" cx=\"211.61\" cy=\"-86.94\" rx=\"27\" ry=\"18\"/>\n",
       "<text text-anchor=\"middle\" x=\"211.61\" y=\"-82.74\" font-family=\"Times,serif\" font-size=\"14.00\">5</text>\n",
       "</g>\n",
       "<!-- 2&#45;&gt;5 -->\n",
       "<g id=\"edge11\" class=\"edge\">\n",
       "<title>2&#45;&gt;5</title>\n",
       "<path fill=\"none\" stroke=\"black\" d=\"M357.12,-161.35C330.79,-143.97 279.37,-115.5 245.23,-99.12\"/>\n",
       "<polygon fill=\"black\" stroke=\"black\" points=\"246.63,-95.92 236.09,-94.84 243.66,-102.26 246.63,-95.92\"/>\n",
       "<text text-anchor=\"middle\" x=\"297.67\" y=\"-133.04\" font-family=\"Times,serif\" font-size=\"14.00\">3</text>\n",
       "</g>\n",
       "<!-- 3&#45;&gt;0 -->\n",
       "<g id=\"edge12\" class=\"edge\">\n",
       "<title>3&#45;&gt;0</title>\n",
       "<path fill=\"none\" stroke=\"black\" d=\"M432.17,-35.13C451.2,-64.13 497.21,-122.5 525.69,-154.26\"/>\n",
       "<polygon fill=\"black\" stroke=\"black\" points=\"523.19,-156.71 532.52,-161.73 528.35,-151.99 523.19,-156.71\"/>\n",
       "<text text-anchor=\"middle\" x=\"471.93\" y=\"-97.5\" font-family=\"Times,serif\" font-size=\"14.00\">12</text>\n",
       "</g>\n",
       "<!-- 3&#45;&gt;2 -->\n",
       "<g id=\"edge13\" class=\"edge\">\n",
       "<title>3&#45;&gt;2</title>\n",
       "<path fill=\"none\" stroke=\"black\" d=\"M413.79,-34.73C402.39,-61.64 385.33,-114.76 377.33,-147.56\"/>\n",
       "<polygon fill=\"black\" stroke=\"black\" points=\"373.89,-146.91 375.07,-157.43 380.71,-148.47 373.89,-146.91\"/>\n",
       "<text text-anchor=\"middle\" x=\"392.06\" y=\"-93.94\" font-family=\"Times,serif\" font-size=\"14.00\">4</text>\n",
       "</g>\n",
       "<!-- 3&#45;&gt;5 -->\n",
       "<g id=\"edge14\" class=\"edge\">\n",
       "<title>3&#45;&gt;5</title>\n",
       "<path fill=\"none\" stroke=\"black\" d=\"M397.22,-21.85C357.74,-31.76 283.86,-55.61 242.19,-71.74\"/>\n",
       "<polygon fill=\"black\" stroke=\"black\" points=\"240.82,-68.52 232.82,-75.47 243.41,-75.03 240.82,-68.52\"/>\n",
       "<text text-anchor=\"middle\" x=\"316.21\" y=\"-35.6\" font-family=\"Times,serif\" font-size=\"14.00\">7</text>\n",
       "</g>\n",
       "<!-- 4&#45;&gt;1 -->\n",
       "<g id=\"edge15\" class=\"edge\">\n",
       "<title>4&#45;&gt;1</title>\n",
       "<path fill=\"none\" stroke=\"black\" d=\"M232.36,-275.84C268.32,-290.63 342.21,-315.01 386.79,-327.06\"/>\n",
       "<polygon fill=\"black\" stroke=\"black\" points=\"386.09,-330.49 396.65,-329.64 387.86,-323.72 386.09,-330.49\"/>\n",
       "<text text-anchor=\"middle\" x=\"306.08\" y=\"-304.25\" font-family=\"Times,serif\" font-size=\"14.00\">7</text>\n",
       "</g>\n",
       "<!-- 4&#45;&gt;2 -->\n",
       "<g id=\"edge17\" class=\"edge\">\n",
       "<title>4&#45;&gt;2</title>\n",
       "<path fill=\"none\" stroke=\"black\" d=\"M235.99,-256.52C266.42,-242.66 317.91,-214.68 348.65,-195.43\"/>\n",
       "<polygon fill=\"black\" stroke=\"black\" points=\"350.58,-198.35 357.1,-190 346.8,-192.46 350.58,-198.35\"/>\n",
       "<text text-anchor=\"middle\" x=\"288.82\" y=\"-228.78\" font-family=\"Times,serif\" font-size=\"14.00\">4</text>\n",
       "</g>\n",
       "<!-- 4&#45;&gt;5 -->\n",
       "<g id=\"edge16\" class=\"edge\">\n",
       "<title>4&#45;&gt;5</title>\n",
       "<path fill=\"none\" stroke=\"black\" d=\"M215.73,-246.46C218.76,-215.42 219.09,-151.59 216.65,-114.78\"/>\n",
       "<polygon fill=\"black\" stroke=\"black\" points=\"220.13,-114.42 215.84,-104.73 213.15,-114.98 220.13,-114.42\"/>\n",
       "<text text-anchor=\"middle\" x=\"212.69\" y=\"-183.42\" font-family=\"Times,serif\" font-size=\"14.00\">2</text>\n",
       "</g>\n",
       "<!-- 6 -->\n",
       "<g id=\"node7\" class=\"node\">\n",
       "<title>6</title>\n",
       "<ellipse fill=\"none\" stroke=\"black\" cx=\"27\" cy=\"-175.58\" rx=\"27\" ry=\"18\"/>\n",
       "<text text-anchor=\"middle\" x=\"27\" y=\"-171.38\" font-family=\"Times,serif\" font-size=\"14.00\">6</text>\n",
       "</g>\n",
       "<!-- 4&#45;&gt;6 -->\n",
       "<g id=\"edge18\" class=\"edge\">\n",
       "<title>4&#45;&gt;6</title>\n",
       "<path fill=\"none\" stroke=\"black\" d=\"M193.25,-250.81C162.63,-232.93 100.4,-202.62 61.35,-186.29\"/>\n",
       "<polygon fill=\"black\" stroke=\"black\" points=\"62.54,-182.99 51.95,-182.45 59.89,-189.47 62.54,-182.99\"/>\n",
       "<text text-anchor=\"middle\" x=\"123.8\" y=\"-221.35\" font-family=\"Times,serif\" font-size=\"14.00\">5</text>\n",
       "</g>\n",
       "<!-- 5&#45;&gt;2 -->\n",
       "<g id=\"edge21\" class=\"edge\">\n",
       "<title>5&#45;&gt;2</title>\n",
       "<path fill=\"none\" stroke=\"black\" d=\"M228.37,-101.26C254.7,-118.65 306.12,-147.12 340.26,-163.49\"/>\n",
       "<polygon fill=\"black\" stroke=\"black\" points=\"338.86,-166.7 349.4,-167.77 341.83,-160.36 338.86,-166.7\"/>\n",
       "<text text-anchor=\"middle\" x=\"280.82\" y=\"-135.18\" font-family=\"Times,serif\" font-size=\"14.00\">3</text>\n",
       "</g>\n",
       "<!-- 5&#45;&gt;3 -->\n",
       "<g id=\"edge20\" class=\"edge\">\n",
       "<title>5&#45;&gt;3</title>\n",
       "<path fill=\"none\" stroke=\"black\" d=\"M238.19,-83.09C277.67,-73.18 351.56,-49.33 393.22,-33.2\"/>\n",
       "<polygon fill=\"black\" stroke=\"black\" points=\"394.59,-36.42 402.59,-29.48 392,-29.92 394.59,-36.42\"/>\n",
       "<text text-anchor=\"middle\" x=\"312.2\" y=\"-60.95\" font-family=\"Times,serif\" font-size=\"14.00\">7</text>\n",
       "</g>\n",
       "<!-- 5&#45;&gt;4 -->\n",
       "<g id=\"edge19\" class=\"edge\">\n",
       "<title>5&#45;&gt;4</title>\n",
       "<path fill=\"none\" stroke=\"black\" d=\"M207.31,-104.94C204.27,-135.98 203.95,-199.8 206.39,-236.61\"/>\n",
       "<polygon fill=\"black\" stroke=\"black\" points=\"202.91,-236.98 207.19,-246.67 209.89,-236.42 202.91,-236.98\"/>\n",
       "<text text-anchor=\"middle\" x=\"203.35\" y=\"-173.58\" font-family=\"Times,serif\" font-size=\"14.00\">2</text>\n",
       "</g>\n",
       "<!-- 5&#45;&gt;6 -->\n",
       "<g id=\"edge22\" class=\"edge\">\n",
       "<title>5&#45;&gt;6</title>\n",
       "<path fill=\"none\" stroke=\"black\" d=\"M186.59,-93.8C151.9,-107.51 89.54,-137.3 53.89,-157.04\"/>\n",
       "<polygon fill=\"black\" stroke=\"black\" points=\"51.98,-154.09 45.01,-162.07 55.43,-160.18 51.98,-154.09\"/>\n",
       "<text text-anchor=\"middle\" x=\"116.74\" y=\"-114.22\" font-family=\"Times,serif\" font-size=\"14.00\">2</text>\n",
       "</g>\n",
       "<!-- 6&#45;&gt;4 -->\n",
       "<g id=\"edge24\" class=\"edge\">\n",
       "<title>6&#45;&gt;4</title>\n",
       "<path fill=\"none\" stroke=\"black\" d=\"M45.18,-189.22C75.8,-207.1 138.03,-237.41 177.08,-253.74\"/>\n",
       "<polygon fill=\"black\" stroke=\"black\" points=\"175.9,-257.04 186.48,-257.58 178.54,-250.56 175.9,-257.04\"/>\n",
       "<text text-anchor=\"middle\" x=\"107.63\" y=\"-224.28\" font-family=\"Times,serif\" font-size=\"14.00\">5</text>\n",
       "</g>\n",
       "<!-- 6&#45;&gt;5 -->\n",
       "<g id=\"edge23\" class=\"edge\">\n",
       "<title>6&#45;&gt;5</title>\n",
       "<path fill=\"none\" stroke=\"black\" d=\"M52.02,-168.72C86.7,-155.01 149.07,-125.23 184.72,-105.48\"/>\n",
       "<polygon fill=\"black\" stroke=\"black\" points=\"186.62,-108.43 193.6,-100.45 183.17,-102.34 186.62,-108.43\"/>\n",
       "<text text-anchor=\"middle\" x=\"114.87\" y=\"-139.9\" font-family=\"Times,serif\" font-size=\"14.00\">2</text>\n",
       "</g>\n",
       "</g>\n",
       "</svg>\n"
      ],
      "text/plain": [
       "<graphviz.dot.Digraph at 0x7fa0c6658cd0>"
      ]
     },
     "execution_count": 61,
     "metadata": {},
     "output_type": "execute_result"
    }
   ],
   "source": [
    "g.visualize()"
   ]
  },
  {
   "cell_type": "markdown",
   "metadata": {
    "heading_collapsed": true
   },
   "source": [
    "## Floyd-Warshall Algorithm"
   ]
  },
  {
   "cell_type": "code",
   "execution_count": 71,
   "metadata": {
    "ExecuteTime": {
     "end_time": "2020-08-03T09:52:08.057308Z",
     "start_time": "2020-08-03T09:52:08.046182Z"
    },
    "hidden": true
   },
   "outputs": [],
   "source": [
    "def floyd(graph):\n",
    "    adj_matrix = [[sys.maxsize] * len(graph.edges) for _ in range(len(graph.edges))]\n",
    "    for p_vertex in graph.edges:\n",
    "        for (c_vertex, weight) in graph.edges[p_vertex]:\n",
    "            adj_matrix[p_vertex][c_vertex] = weight\n",
    "    for i in range(len(adj_matrix)):\n",
    "        adj_matrix[i][i] = 0\n",
    "    \n",
    "    for k in range(len(adj_matrix)):\n",
    "        for i in range(len(adj_matrix)):\n",
    "            for j in range(len(adj_matrix)):\n",
    "                sum_path = adj_matrix[i][k] + adj_matrix[k][j]\n",
    "                if sum_path < adj_matrix[i][j]:\n",
    "                    adj_matrix[i][j] = sum_path\n",
    "    \n",
    "    return adj_matrix"
   ]
  },
  {
   "cell_type": "code",
   "execution_count": 72,
   "metadata": {
    "ExecuteTime": {
     "end_time": "2020-08-03T09:52:08.249940Z",
     "start_time": "2020-08-03T09:52:08.239356Z"
    },
    "hidden": true
   },
   "outputs": [],
   "source": [
    "g = Graph(\n",
    "    [(0, 1, 5), (0, 2, 7), (0, 3, 12), (1, 4, 7), (4, 5, 2), (1, 2, 9), (3, 2, 4), (4, 2, 4), (3, 5, 7), (5, 2, 3), (5, 6, 2), (4, 6, 5)]\n",
    ")"
   ]
  },
  {
   "cell_type": "code",
   "execution_count": 73,
   "metadata": {
    "ExecuteTime": {
     "end_time": "2020-08-03T09:52:09.062170Z",
     "start_time": "2020-08-03T09:52:09.055861Z"
    },
    "hidden": true
   },
   "outputs": [],
   "source": [
    "adj_matrix = floyd(g)"
   ]
  },
  {
   "cell_type": "code",
   "execution_count": 74,
   "metadata": {
    "ExecuteTime": {
     "end_time": "2020-08-03T09:52:11.180331Z",
     "start_time": "2020-08-03T09:52:11.167452Z"
    },
    "hidden": true
   },
   "outputs": [
    {
     "data": {
      "text/plain": [
       "[[0, 5, 7, 11, 11, 10, 12],\n",
       " [5, 0, 9, 13, 7, 9, 11],\n",
       " [7, 9, 0, 4, 4, 3, 5],\n",
       " [11, 13, 4, 0, 8, 7, 9],\n",
       " [11, 7, 4, 8, 0, 2, 4],\n",
       " [10, 9, 3, 7, 2, 0, 2],\n",
       " [12, 11, 5, 9, 4, 2, 0]]"
      ]
     },
     "execution_count": 74,
     "metadata": {},
     "output_type": "execute_result"
    }
   ],
   "source": [
    "adj_matrix"
   ]
  },
  {
   "cell_type": "markdown",
   "metadata": {
    "heading_collapsed": true
   },
   "source": [
    "## Bellman-Ford Algorithm"
   ]
  },
  {
   "cell_type": "code",
   "execution_count": 101,
   "metadata": {
    "ExecuteTime": {
     "end_time": "2020-08-03T10:15:24.453543Z",
     "start_time": "2020-08-03T10:15:24.430304Z"
    },
    "hidden": true
   },
   "outputs": [],
   "source": [
    "def bellman_ford(graph, start=None):\n",
    "    if start is None:\n",
    "        start = next(iter(graph.edges))\n",
    "    distances = [sys.maxsize] * graph.num_vertices\n",
    "    distances[start] = 0\n",
    "    for i in range(len(graph.edges)):\n",
    "        for p_vertex in graph.edges:\n",
    "            for (c_vertex, weight) in graph.edges[p_vertex]:\n",
    "                if distances[p_vertex] + weight < distances[c_vertex]:\n",
    "                    distances[c_vertex] = distances[p_vertex] + weight\n",
    "    for i in range(len(graph.edges)):\n",
    "        for p_vertex in graph.edges:\n",
    "            for (c_vertex, weight) in graph.edges[p_vertex]:\n",
    "                if distances[p_vertex] + weight < distances[c_vertex]:\n",
    "                    distances[c_vertex] = -math.inf\n",
    "    \n",
    "    return distances"
   ]
  },
  {
   "cell_type": "code",
   "execution_count": 107,
   "metadata": {
    "ExecuteTime": {
     "end_time": "2020-08-03T10:16:05.520554Z",
     "start_time": "2020-08-03T10:16:05.513096Z"
    },
    "hidden": true
   },
   "outputs": [],
   "source": [
    "g = Graph(\n",
    "    [(0, 1, -3), (2, 0, -10), (0, 3, 12), (1, 4, 7), (4, 5, 2), (1, 2, 9), (3, 2, 4), (4, 2, 4), (3, 5, 7), (5, 2, 3), (5, 6, 2), (4, 6, 5)],\n",
    "    directed=True\n",
    ")"
   ]
  },
  {
   "cell_type": "code",
   "execution_count": 108,
   "metadata": {
    "ExecuteTime": {
     "end_time": "2020-08-03T10:16:05.660817Z",
     "start_time": "2020-08-03T10:16:05.654268Z"
    },
    "hidden": true
   },
   "outputs": [
    {
     "name": "stdout",
     "output_type": "stream",
     "text": [
      "[-inf, -inf, -inf, -inf, -inf, -inf, -inf]\n"
     ]
    }
   ],
   "source": [
    "distances = bellman_ford(g)\n",
    "print(distances)"
   ]
  },
  {
   "cell_type": "code",
   "execution_count": 109,
   "metadata": {
    "ExecuteTime": {
     "end_time": "2020-08-03T10:16:05.886298Z",
     "start_time": "2020-08-03T10:16:05.800301Z"
    },
    "hidden": true
   },
   "outputs": [
    {
     "data": {
      "image/svg+xml": [
       "<?xml version=\"1.0\" encoding=\"UTF-8\" standalone=\"no\"?>\n",
       "<!DOCTYPE svg PUBLIC \"-//W3C//DTD SVG 1.1//EN\"\n",
       " \"http://www.w3.org/Graphics/SVG/1.1/DTD/svg11.dtd\">\n",
       "<!-- Generated by graphviz version 2.42.3 (20191010.1750)\n",
       " -->\n",
       "<!-- Title: %3 Pages: 1 -->\n",
       "<svg width=\"584pt\" height=\"360pt\"\n",
       " viewBox=\"0.00 0.00 584.31 359.68\" xmlns=\"http://www.w3.org/2000/svg\" xmlns:xlink=\"http://www.w3.org/1999/xlink\">\n",
       "<g id=\"graph0\" class=\"graph\" transform=\"scale(1 1) rotate(0) translate(4 355.68)\">\n",
       "<title>%3</title>\n",
       "<polygon fill=\"white\" stroke=\"transparent\" points=\"-4,4 -4,-355.68 580.31,-355.68 580.31,4 -4,4\"/>\n",
       "<!-- 0 -->\n",
       "<g id=\"node1\" class=\"node\">\n",
       "<title>0</title>\n",
       "<ellipse fill=\"none\" stroke=\"black\" cx=\"549.31\" cy=\"-175.84\" rx=\"27\" ry=\"18\"/>\n",
       "<text text-anchor=\"middle\" x=\"549.31\" y=\"-171.64\" font-family=\"Times,serif\" font-size=\"14.00\">0</text>\n",
       "</g>\n",
       "<!-- 1 -->\n",
       "<g id=\"node2\" class=\"node\">\n",
       "<title>1</title>\n",
       "<ellipse fill=\"none\" stroke=\"black\" cx=\"423.63\" cy=\"-333.68\" rx=\"27\" ry=\"18\"/>\n",
       "<text text-anchor=\"middle\" x=\"423.63\" y=\"-329.48\" font-family=\"Times,serif\" font-size=\"14.00\">1</text>\n",
       "</g>\n",
       "<!-- 0&#45;&gt;1 -->\n",
       "<g id=\"edge1\" class=\"edge\">\n",
       "<title>0&#45;&gt;1</title>\n",
       "<path fill=\"none\" stroke=\"black\" d=\"M536.56,-191.84C514.45,-219.61 468.86,-276.87 442.87,-309.51\"/>\n",
       "<polygon fill=\"black\" stroke=\"black\" points=\"439.9,-307.63 436.41,-317.63 445.37,-311.99 439.9,-307.63\"/>\n",
       "<text text-anchor=\"middle\" x=\"483.89\" y=\"-253.47\" font-family=\"Times,serif\" font-size=\"14.00\">&#45;3</text>\n",
       "</g>\n",
       "<!-- 3 -->\n",
       "<g id=\"node3\" class=\"node\">\n",
       "<title>3</title>\n",
       "<ellipse fill=\"none\" stroke=\"black\" cx=\"423.72\" cy=\"-18\" rx=\"27\" ry=\"18\"/>\n",
       "<text text-anchor=\"middle\" x=\"423.72\" y=\"-13.8\" font-family=\"Times,serif\" font-size=\"14.00\">3</text>\n",
       "</g>\n",
       "<!-- 0&#45;&gt;3 -->\n",
       "<g id=\"edge2\" class=\"edge\">\n",
       "<title>0&#45;&gt;3</title>\n",
       "<path fill=\"none\" stroke=\"black\" d=\"M536.57,-159.83C514.48,-132.06 468.91,-74.8 442.95,-42.17\"/>\n",
       "<polygon fill=\"black\" stroke=\"black\" points=\"445.45,-39.69 436.49,-34.05 439.98,-44.05 445.45,-39.69\"/>\n",
       "<text text-anchor=\"middle\" x=\"482.76\" y=\"-103.8\" font-family=\"Times,serif\" font-size=\"14.00\">12</text>\n",
       "</g>\n",
       "<!-- 2 -->\n",
       "<g id=\"node4\" class=\"node\">\n",
       "<title>2</title>\n",
       "<ellipse fill=\"none\" stroke=\"black\" cx=\"373.69\" cy=\"-175.99\" rx=\"27\" ry=\"18\"/>\n",
       "<text text-anchor=\"middle\" x=\"373.69\" y=\"-171.79\" font-family=\"Times,serif\" font-size=\"14.00\">2</text>\n",
       "</g>\n",
       "<!-- 1&#45;&gt;2 -->\n",
       "<g id=\"edge5\" class=\"edge\">\n",
       "<title>1&#45;&gt;2</title>\n",
       "<path fill=\"none\" stroke=\"black\" d=\"M418,-315.89C409.34,-288.57 392.7,-236.03 382.46,-203.69\"/>\n",
       "<polygon fill=\"black\" stroke=\"black\" points=\"385.73,-202.43 379.37,-193.95 379.06,-204.54 385.73,-202.43\"/>\n",
       "<text text-anchor=\"middle\" x=\"396.73\" y=\"-262.59\" font-family=\"Times,serif\" font-size=\"14.00\">9</text>\n",
       "</g>\n",
       "<!-- 4 -->\n",
       "<g id=\"node5\" class=\"node\">\n",
       "<title>4</title>\n",
       "<ellipse fill=\"none\" stroke=\"black\" cx=\"211.47\" cy=\"-264.64\" rx=\"27\" ry=\"18\"/>\n",
       "<text text-anchor=\"middle\" x=\"211.47\" y=\"-260.44\" font-family=\"Times,serif\" font-size=\"14.00\">4</text>\n",
       "</g>\n",
       "<!-- 1&#45;&gt;4 -->\n",
       "<g id=\"edge4\" class=\"edge\">\n",
       "<title>1&#45;&gt;4</title>\n",
       "<path fill=\"none\" stroke=\"black\" d=\"M399.29,-325.76C361.5,-313.46 288.6,-289.74 245.58,-275.75\"/>\n",
       "<polygon fill=\"black\" stroke=\"black\" points=\"246.44,-272.34 235.85,-272.58 244.27,-279 246.44,-272.34\"/>\n",
       "<text text-anchor=\"middle\" x=\"318.94\" y=\"-303.55\" font-family=\"Times,serif\" font-size=\"14.00\">7</text>\n",
       "</g>\n",
       "<!-- 3&#45;&gt;2 -->\n",
       "<g id=\"edge9\" class=\"edge\">\n",
       "<title>3&#45;&gt;2</title>\n",
       "<path fill=\"none\" stroke=\"black\" d=\"M418.08,-35.82C409.41,-63.2 392.74,-115.84 382.47,-148.25\"/>\n",
       "<polygon fill=\"black\" stroke=\"black\" points=\"379.07,-147.41 379.39,-158 385.74,-149.52 379.07,-147.41\"/>\n",
       "<text text-anchor=\"middle\" x=\"396.78\" y=\"-94.83\" font-family=\"Times,serif\" font-size=\"14.00\">4</text>\n",
       "</g>\n",
       "<!-- 5 -->\n",
       "<g id=\"node6\" class=\"node\">\n",
       "<title>5</title>\n",
       "<ellipse fill=\"none\" stroke=\"black\" cx=\"211.64\" cy=\"-87.07\" rx=\"27\" ry=\"18\"/>\n",
       "<text text-anchor=\"middle\" x=\"211.64\" y=\"-82.87\" font-family=\"Times,serif\" font-size=\"14.00\">5</text>\n",
       "</g>\n",
       "<!-- 3&#45;&gt;5 -->\n",
       "<g id=\"edge10\" class=\"edge\">\n",
       "<title>3&#45;&gt;5</title>\n",
       "<path fill=\"none\" stroke=\"black\" d=\"M399.39,-25.92C361.62,-38.23 288.75,-61.96 245.75,-75.97\"/>\n",
       "<polygon fill=\"black\" stroke=\"black\" points=\"244.44,-72.71 236.01,-79.14 246.6,-79.37 244.44,-72.71\"/>\n",
       "<text text-anchor=\"middle\" x=\"319.07\" y=\"-53.74\" font-family=\"Times,serif\" font-size=\"14.00\">7</text>\n",
       "</g>\n",
       "<!-- 2&#45;&gt;0 -->\n",
       "<g id=\"edge3\" class=\"edge\">\n",
       "<title>2&#45;&gt;0</title>\n",
       "<path fill=\"none\" stroke=\"black\" d=\"M400.74,-175.97C430.52,-175.94 478.59,-175.9 511.95,-175.87\"/>\n",
       "<polygon fill=\"black\" stroke=\"black\" points=\"512.22,-179.37 522.22,-175.86 512.22,-172.37 512.22,-179.37\"/>\n",
       "<text text-anchor=\"middle\" x=\"447.01\" y=\"-178.72\" font-family=\"Times,serif\" font-size=\"14.00\">&#45;10</text>\n",
       "</g>\n",
       "<!-- 4&#45;&gt;2 -->\n",
       "<g id=\"edge7\" class=\"edge\">\n",
       "<title>4&#45;&gt;2</title>\n",
       "<path fill=\"none\" stroke=\"black\" d=\"M232.67,-253.06C261.05,-237.55 311.52,-209.97 343.76,-192.35\"/>\n",
       "<polygon fill=\"black\" stroke=\"black\" points=\"345.63,-195.31 352.73,-187.45 342.28,-189.17 345.63,-195.31\"/>\n",
       "<text text-anchor=\"middle\" x=\"284.71\" y=\"-225.5\" font-family=\"Times,serif\" font-size=\"14.00\">4</text>\n",
       "</g>\n",
       "<!-- 4&#45;&gt;5 -->\n",
       "<g id=\"edge6\" class=\"edge\">\n",
       "<title>4&#45;&gt;5</title>\n",
       "<path fill=\"none\" stroke=\"black\" d=\"M211.48,-246.64C211.51,-215.66 211.58,-152.07 211.61,-115.2\"/>\n",
       "<polygon fill=\"black\" stroke=\"black\" points=\"215.11,-115.13 211.62,-105.12 208.11,-115.12 215.11,-115.13\"/>\n",
       "<text text-anchor=\"middle\" x=\"208.05\" y=\"-183.72\" font-family=\"Times,serif\" font-size=\"14.00\">2</text>\n",
       "</g>\n",
       "<!-- 6 -->\n",
       "<g id=\"node7\" class=\"node\">\n",
       "<title>6</title>\n",
       "<ellipse fill=\"none\" stroke=\"black\" cx=\"27\" cy=\"-175.75\" rx=\"27\" ry=\"18\"/>\n",
       "<text text-anchor=\"middle\" x=\"27\" y=\"-171.55\" font-family=\"Times,serif\" font-size=\"14.00\">6</text>\n",
       "</g>\n",
       "<!-- 4&#45;&gt;6 -->\n",
       "<g id=\"edge8\" class=\"edge\">\n",
       "<title>4&#45;&gt;6</title>\n",
       "<path fill=\"none\" stroke=\"black\" d=\"M189.58,-254.1C157.08,-238.43 95.88,-208.94 58.54,-190.95\"/>\n",
       "<polygon fill=\"black\" stroke=\"black\" points=\"59.67,-187.61 49.14,-186.42 56.63,-193.91 59.67,-187.61\"/>\n",
       "<text text-anchor=\"middle\" x=\"120.56\" y=\"-225.32\" font-family=\"Times,serif\" font-size=\"14.00\">5</text>\n",
       "</g>\n",
       "<!-- 5&#45;&gt;2 -->\n",
       "<g id=\"edge11\" class=\"edge\">\n",
       "<title>5&#45;&gt;2</title>\n",
       "<path fill=\"none\" stroke=\"black\" d=\"M232.49,-98.52C260.74,-114.01 311.32,-141.77 343.65,-159.51\"/>\n",
       "<polygon fill=\"black\" stroke=\"black\" points=\"342.21,-162.71 352.66,-164.45 345.57,-156.58 342.21,-162.71\"/>\n",
       "<text text-anchor=\"middle\" x=\"284.57\" y=\"-131.82\" font-family=\"Times,serif\" font-size=\"14.00\">3</text>\n",
       "</g>\n",
       "<!-- 5&#45;&gt;6 -->\n",
       "<g id=\"edge12\" class=\"edge\">\n",
       "<title>5&#45;&gt;6</title>\n",
       "<path fill=\"none\" stroke=\"black\" d=\"M189.37,-97.77C156.7,-113.46 95.65,-142.78 58.43,-160.65\"/>\n",
       "<polygon fill=\"black\" stroke=\"black\" points=\"56.56,-157.67 49.06,-165.15 59.59,-163.98 56.56,-157.67\"/>\n",
       "<text text-anchor=\"middle\" x=\"120.4\" y=\"-132.01\" font-family=\"Times,serif\" font-size=\"14.00\">2</text>\n",
       "</g>\n",
       "</g>\n",
       "</svg>\n"
      ],
      "text/plain": [
       "<graphviz.dot.Digraph at 0x7fa076d24690>"
      ]
     },
     "execution_count": 109,
     "metadata": {},
     "output_type": "execute_result"
    }
   ],
   "source": [
    "g.visualize()"
   ]
  }
 ],
 "metadata": {
  "kernelspec": {
   "display_name": "Python 3",
   "language": "python",
   "name": "python3"
  },
  "language_info": {
   "codemirror_mode": {
    "name": "ipython",
    "version": 3
   },
   "file_extension": ".py",
   "mimetype": "text/x-python",
   "name": "python",
   "nbconvert_exporter": "python",
   "pygments_lexer": "ipython3",
   "version": "3.7.6"
  }
 },
 "nbformat": 4,
 "nbformat_minor": 4
}
