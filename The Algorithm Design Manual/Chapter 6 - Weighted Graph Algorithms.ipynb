{
 "cells": [
  {
   "cell_type": "markdown",
   "metadata": {
    "heading_collapsed": true
   },
   "source": [
    "## Graph"
   ]
  },
  {
   "cell_type": "code",
   "execution_count": 61,
   "metadata": {
    "ExecuteTime": {
     "end_time": "2020-08-02T07:51:20.077160Z",
     "start_time": "2020-08-02T07:51:20.048443Z"
    },
    "hidden": true
   },
   "outputs": [],
   "source": [
    "from graphviz import Graph\n",
    "from collections import defaultdict\n",
    "\n",
    "class Graph:\n",
    "    def __init__(self, edges, directed=False):\n",
    "        self.directed = directed\n",
    "        self._vertices = set()\n",
    "        self.num_vertices = 0\n",
    "        self.num_edges = 0\n",
    "        self.edges = defaultdict(list)\n",
    "        for edge in edges:\n",
    "            self.insert_edge(edge)\n",
    "            \n",
    "    def insert_edge(self, edge):\n",
    "        u, v, w = edge\n",
    "        self._vertices.add(u)\n",
    "        self._vertices.add(v)\n",
    "        self.edges[u].append((v, w))\n",
    "        if not self.directed:\n",
    "            self.edges[v].append((u, w))\n",
    "        self.num_vertices = len(self._vertices)\n",
    "        \n",
    "    def visualize(self):\n",
    "        graph = Graph(engine=\"sfdp\")\n",
    "        for p_vertex in self.edges:\n",
    "            graph.node(str(p_vertex))\n",
    "            for (c_vertex, weight) in self.edges[p_vertex]:\n",
    "                graph.node(str(c_vertex))\n",
    "                graph.edge(str(p_vertex), str(c_vertex), label=str(weight))\n",
    "        \n",
    "        return graph\n",
    "        \n",
    "    def __str__(self):\n",
    "        out_str = \"\"\n",
    "        for p_vertex, children in self.edges.items():\n",
    "            p_str = \"{} :\".format(p_vertex)\n",
    "            for c_vertex, weight in children:\n",
    "                p_str += \"({}, {}) \".format(c_vertex, weight)\n",
    "            out_str += p_str + \"\\n\"\n",
    "        \n",
    "        return out_str"
   ]
  },
  {
   "cell_type": "markdown",
   "metadata": {},
   "source": [
    "## Prim's Algorithm"
   ]
  },
  {
   "cell_type": "code",
   "execution_count": 62,
   "metadata": {
    "ExecuteTime": {
     "end_time": "2020-08-02T07:51:22.936492Z",
     "start_time": "2020-08-02T07:51:22.926160Z"
    }
   },
   "outputs": [],
   "source": [
    "import heapq as hq\n",
    "\n",
    "def prim(graph, start=None):\n",
    "    if start is None:\n",
    "        start = next(iter(graph.edges))\n",
    "    visited = [False] * len(graph.edges)\n",
    "    distances = [(0, start)]\n",
    "    total_weight = 0\n",
    "    while distances:\n",
    "        weight, vertex = hq.heappop(distances)\n",
    "        if not visited[vertex]:\n",
    "            visited[vertex] = True\n",
    "            total_weight += weight\n",
    "            for vertex, weight in graph.edges[vertex]:\n",
    "                hq.heappush(distances, (weight, vertex))\n",
    "    return total_weight"
   ]
  },
  {
   "cell_type": "code",
   "execution_count": 63,
   "metadata": {
    "ExecuteTime": {
     "end_time": "2020-08-02T07:51:24.116250Z",
     "start_time": "2020-08-02T07:51:24.104510Z"
    }
   },
   "outputs": [],
   "source": [
    "g = Graph(\n",
    "    [(0, 1, 5), (0, 2, 7), (0, 3, 12), (1, 4, 7), (4, 5, 2), (1, 2, 9), (3, 2, 4), (4, 2, 4), (3, 5, 7), (5, 2, 3), (5, 6, 2), (4, 6, 5)]\n",
    ")"
   ]
  },
  {
   "cell_type": "code",
   "execution_count": 64,
   "metadata": {
    "ExecuteTime": {
     "end_time": "2020-08-02T07:51:26.674651Z",
     "start_time": "2020-08-02T07:51:26.663099Z"
    }
   },
   "outputs": [],
   "source": [
    "minimum_total_weight = prim(g, start=0)"
   ]
  },
  {
   "cell_type": "code",
   "execution_count": 65,
   "metadata": {
    "ExecuteTime": {
     "end_time": "2020-08-02T07:51:27.146281Z",
     "start_time": "2020-08-02T07:51:27.135389Z"
    }
   },
   "outputs": [
    {
     "data": {
      "text/plain": [
       "23"
      ]
     },
     "execution_count": 65,
     "metadata": {},
     "output_type": "execute_result"
    }
   ],
   "source": [
    "minimum_total_weight"
   ]
  },
  {
   "cell_type": "markdown",
   "metadata": {
    "heading_collapsed": true
   },
   "source": [
    "## Kruskal's Algorithm"
   ]
  },
  {
   "cell_type": "code",
   "execution_count": 84,
   "metadata": {
    "ExecuteTime": {
     "end_time": "2020-08-02T08:33:09.045235Z",
     "start_time": "2020-08-02T08:33:09.034390Z"
    },
    "hidden": true
   },
   "outputs": [],
   "source": [
    "class UnionFind:\n",
    "    def __init__(self, nodes):\n",
    "        self.nodes = nodes\n",
    "        self.num_components = len(self.nodes)\n",
    "        self.sizes = [1] * len(self.nodes)\n",
    "        \n",
    "    def find(self, x):\n",
    "        parent = self.nodes[x]\n",
    "        while parent != self.nodes[parent]:\n",
    "            parent = self.nodes[parent]\n",
    "        self.nodes[x] = parent\n",
    "        \n",
    "        return parent\n",
    "    \n",
    "    def union(self, x, y):\n",
    "        p_x, p_y = self.find(x), self.find(y)\n",
    "        if p_x != p_y:\n",
    "            if self.sizes[p_x] < self.sizes[p_y]:\n",
    "                self.nodes[p_x] = p_y\n",
    "                self.sizes[p_y] += self.sizes[p_x]\n",
    "                self.num_components -= 1\n",
    "            else:\n",
    "                self.nodes[p_y] = p_x\n",
    "                self.sizes[p_x] += self.sizes[p_y]\n",
    "                self.num_components -= 1"
   ]
  },
  {
   "cell_type": "code",
   "execution_count": 108,
   "metadata": {
    "ExecuteTime": {
     "end_time": "2020-08-02T08:47:33.262700Z",
     "start_time": "2020-08-02T08:47:33.255028Z"
    },
    "hidden": true
   },
   "outputs": [],
   "source": [
    "def kruskal(graph):\n",
    "    total_cost = 0\n",
    "    MST_edges = []\n",
    "    edges = []\n",
    "    union_find = UnionFind(list(range(len(graph.edges))))\n",
    "    for p_vertex in graph.edges:\n",
    "        for (c_vertex, weight) in graph.edges[p_vertex]:\n",
    "            hq.heappush(edges, (weight, p_vertex, c_vertex))\n",
    "    while edges:\n",
    "        weight, p_vertex, c_vertex = hq.heappop(edges)\n",
    "        if union_find.find(p_vertex) != union_find.find(c_vertex):\n",
    "            MST_edges.append((p_vertex, c_vertex))\n",
    "            total_cost += weight\n",
    "            union_find.union(p_vertex, c_vertex)\n",
    "    \n",
    "    return total_cost, MST_edges"
   ]
  },
  {
   "cell_type": "code",
   "execution_count": 109,
   "metadata": {
    "ExecuteTime": {
     "end_time": "2020-08-02T08:47:33.884128Z",
     "start_time": "2020-08-02T08:47:33.877713Z"
    },
    "hidden": true
   },
   "outputs": [],
   "source": [
    "g = Graph(\n",
    "    [(0, 1, 5), (0, 2, 7), (0, 3, 12), (1, 4, 7), (4, 5, 2), (1, 2, 9), (3, 2, 4), (4, 2, 4), (3, 5, 7), (5, 2, 3), (5, 6, 2), (4, 6, 5)]\n",
    ")"
   ]
  },
  {
   "cell_type": "code",
   "execution_count": 110,
   "metadata": {
    "ExecuteTime": {
     "end_time": "2020-08-02T08:47:37.827143Z",
     "start_time": "2020-08-02T08:47:37.822909Z"
    },
    "hidden": true
   },
   "outputs": [],
   "source": [
    "minimum_total_weight, MST_edges = kruskal(g)"
   ]
  },
  {
   "cell_type": "code",
   "execution_count": 111,
   "metadata": {
    "ExecuteTime": {
     "end_time": "2020-08-02T08:47:39.065166Z",
     "start_time": "2020-08-02T08:47:39.054309Z"
    },
    "hidden": true
   },
   "outputs": [
    {
     "data": {
      "text/plain": [
       "23"
      ]
     },
     "execution_count": 111,
     "metadata": {},
     "output_type": "execute_result"
    }
   ],
   "source": [
    "minimum_total_weight"
   ]
  },
  {
   "cell_type": "code",
   "execution_count": 112,
   "metadata": {
    "ExecuteTime": {
     "end_time": "2020-08-02T08:47:43.090363Z",
     "start_time": "2020-08-02T08:47:43.079595Z"
    },
    "hidden": true
   },
   "outputs": [
    {
     "data": {
      "text/plain": [
       "[(4, 5), (5, 6), (2, 5), (2, 3), (0, 1), (0, 2)]"
      ]
     },
     "execution_count": 112,
     "metadata": {},
     "output_type": "execute_result"
    }
   ],
   "source": [
    "MST_edges"
   ]
  },
  {
   "cell_type": "markdown",
   "metadata": {},
   "source": [
    "## Dijkstra's Algorithm"
   ]
  },
  {
   "cell_type": "code",
   "execution_count": null,
   "metadata": {},
   "outputs": [],
   "source": [
    "import sys\n",
    "\n",
    "def dijkstra(graph, start=None):\n",
    "    if start is None:\n",
    "        start = next(iter(graph.edges))\n",
    "    edges = [(0, start)]\n",
    "    visited = []\n",
    "    distances {i: [sys.maxsize, None] for i in range(len(graph.edges))}\n",
    "    while edges:\n",
    "        weight, vertex = hq.heappop(visited)\n",
    "        if vertex not in visited:\n",
    "            "
   ]
  },
  {
   "cell_type": "code",
   "execution_count": null,
   "metadata": {},
   "outputs": [],
   "source": [
    "g = Graph(\n",
    "    [(0, 1, 5), (0, 2, 7), (0, 3, 12), (1, 4, 7), (4, 5, 2), (1, 2, 9), (3, 2, 4), (4, 2, 4), (3, 5, 7), (5, 2, 3), (5, 6, 2), (4, 6, 5)]\n",
    ")"
   ]
  },
  {
   "cell_type": "markdown",
   "metadata": {
    "heading_collapsed": true
   },
   "source": [
    "## Floyd-Warshall Algorithm"
   ]
  },
  {
   "cell_type": "code",
   "execution_count": null,
   "metadata": {
    "hidden": true
   },
   "outputs": [],
   "source": []
  }
 ],
 "metadata": {
  "kernelspec": {
   "display_name": "Python 3",
   "language": "python",
   "name": "python3"
  },
  "language_info": {
   "codemirror_mode": {
    "name": "ipython",
    "version": 3
   },
   "file_extension": ".py",
   "mimetype": "text/x-python",
   "name": "python",
   "nbconvert_exporter": "python",
   "pygments_lexer": "ipython3",
   "version": "3.7.6"
  }
 },
 "nbformat": 4,
 "nbformat_minor": 4
}
